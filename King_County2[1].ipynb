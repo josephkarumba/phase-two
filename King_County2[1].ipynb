{
 "cells": [
  {
   "cell_type": "markdown",
   "id": "02480da4-412e-43e0-9a23-804f6ecf74bb",
   "metadata": {},
   "source": [
    "## Final Project Submission\n",
    "\n",
    "Please fill out:\n",
    "\n",
    "* Students name:\n",
    "  \n",
    "  1. Daphine Lucas\n",
    "  2. Joseph Karumba\n",
    "  3. Wachuka Kinyanjui\n",
    "  4. Winny Chemusian\n",
    "  5. Wambui Githinji\n",
    "  6. Allan Mataen\n",
    "     \n",
    "  \n",
    "* Student pace: Part time\n",
    "  \n",
    "  \n",
    "* Scheduled project review date/time:\n",
    "  \n",
    "  \n",
    "* Instructor name:\n",
    "  1. Noah Kandie\n",
    "  2. William Okomba\n",
    "     \n",
    "  \n",
    "* Blog post URL:\n"
   ]
  },
  {
   "cell_type": "code",
   "execution_count": 1,
   "id": "d760c188-f397-42fd-bf8e-51e1deaf5cf9",
   "metadata": {},
   "outputs": [],
   "source": [
    "# Your code here - remember to use markdown cells for comments as well!\n",
    "# Importing standard packages\n",
    "import numpy as np\n",
    "import pandas as pd\n",
    "from matplotlib import pyplot as plt\n",
    "import seaborn as sns\n",
    "\n",
    "\n",
    "\n",
    "\n",
    "\n",
    "import statsmodels.api as sm\n",
    "from sklearn.preprocessing import OneHotEncoder, StandardScaler\n",
    "from sklearn.preprocessing import PolynomialFeatures, StandardScaler\n",
    "from sklearn.model_selection import train_test_split\n",
    "from sklearn.metrics import mean_squared_error, r2_score\n",
    "from sklearn.datasets import make_regression\n",
    "from sklearn.linear_model import LinearRegression\n",
    "from sklearn import metrics\n",
    "import sklearn.metrics as metrics\n",
    "from random import gauss\n",
    "from mpl_toolkits.mplot3d import Axes3D\n",
    "from scipy import stats as stats\n",
    "from math import sqrt\n",
    "%matplotlib inline\n"
   ]
  },
  {
   "cell_type": "markdown",
   "id": "2aa5466b-ec5c-410d-96df-9a0497825f3b",
   "metadata": {},
   "source": [
    "# INTRODUCTION"
   ]
  },
  {
   "cell_type": "markdown",
   "id": "1d9664b0-664a-42fb-9a41-2097963b1950",
   "metadata": {},
   "source": [
    "In this project, we explore the King County House Sales dataset, which contains information on houses sold in King County, USA. Our objective is to provide accurate insights to assist homeowners and real estate agencies in crucial decisions regarding property valuation and market trends. By leveraging linear regression modeling, we aim to develop a powerful tool that predicts potential property value increases based on key factors such as bedrooms, floors, living space, condition, and location. This tool will offer valuable guidance for pricing strategies, understanding market dynamics, and making well-informed property-related decisions."
   ]
  },
  {
   "cell_type": "markdown",
   "id": "5ae499a2-24da-45ca-a25c-94562cef2df4",
   "metadata": {},
   "source": [
    "# BUSINESS UNDERSTANDING"
   ]
  },
  {
   "cell_type": "markdown",
   "id": "eb704162-0260-4598-aca4-09ed352f863c",
   "metadata": {},
   "source": [
    "The real estate market in King County, USA, is dynamic and competitive, making it essential for homeowners and real estate agencies to stay informed about property values and market trends. By analyzing the King County House Sales dataset, we aim to provide valuable insights that empower homeowners and agencies to make informed decisions.\n",
    "\n",
    "For real estate agencies, having access to a predictive model that factors in key features such as bedrooms, year built, living space, and location can significantly enhance their market analysis capabilities. This tool can assist agencies in accurately valuing properties, identifying market trends, and developing effective pricing strategies to attract buyers or renters.\n",
    "\n",
    "Overall, our project aims to bridge the gap between data analysis and real-world decision-making in the real estate industry, providing actionable insights that drive success for homeowners and agencies alike."
   ]
  },
  {
   "cell_type": "markdown",
   "id": "6c49cf0d-3b74-4d2d-b1e7-eed3be8d905c",
   "metadata": {},
   "source": [
    "# DATA UNDERSTANDING"
   ]
  },
  {
   "cell_type": "markdown",
   "id": "a15feb9d-7544-4866-99cc-44a5d9e09bf5",
   "metadata": {},
   "source": [
    "In the data understanding phase, we will explore and analyze the dataset to gain a better understanding of its structure, contents, and potential insights it can offer."
   ]
  },
  {
   "cell_type": "markdown",
   "id": "ef675517-2123-43ef-96de-f6cd06afa432",
   "metadata": {},
   "source": [
    "## Column Names and Descriptions for King County Data Set\n",
    "* `id` - Unique identifier for a house\n",
    "* `date` - Date house was sold\n",
    "* `price` - Sale price (prediction target)\n",
    "* `bedrooms` - Number of bedrooms\n",
    "* `bathrooms` - Number of bathrooms\n",
    "* `sqft_living` - Square footage of living space in the home\n",
    "* `sqft_lot` - Square footage of the lot\n",
    "* `floors` - Number of floors (levels) in house\n",
    "* `waterfront` - Whether the house is on a waterfront\n",
    "  * Includes Duwamish, Elliott Bay, Puget Sound, Lake Union, Ship Canal, Lake Washington, Lake Sammamish, other lake, and river/slough waterfronts\n",
    "* `view` - Quality of view from house\n",
    "  * Includes views of Mt. Rainier, Olympics, Cascades, Territorial, Seattle Skyline, Puget Sound, Lake Washington, Lake Sammamish, small lake / river / creek, and other\n",
    "* `condition` - How good the overall condition of the house is. Related to maintenance of house.\n",
    "  * See the [King County Assessor Website](https://info.kingcounty.gov/assessor/esales/Glossary.aspx?type=r) for further explanation of each condition code\n",
    "* `grade` - Overall grade of the house. Related to the construction and design of the house.\n",
    "  * See the [King County Assessor Website](https://info.kingcounty.gov/assessor/esales/Glossary.aspx?type=r) for further explanation of each building grade code\n",
    "* `sqft_above` - Square footage of house apart from basement\n",
    "* `sqft_basement` - Square footage of the basement\n",
    "* `yr_built` - Year when house was built\n",
    "* `yr_renovated` - Year when house was renovated\n",
    "* `zipcode` - ZIP Code used by the United States Postal Service\n",
    "* `lat` - Latitude coordinate\n",
    "* `long` - Longitude coordinate\n",
    "* `sqft_living15` - The square footage of interior housing living space for the nearest 15 neighbors\n",
    "* `sqft_lot15` - The square footage of the land lots of the nearest 15 neighbors\n"
   ]
  },
  {
   "cell_type": "markdown",
   "id": "b573b955-a128-4836-909f-6454b7b39fe7",
   "metadata": {},
   "source": [
    "# PROBLEM STATEMENT"
   ]
  },
  {
   "cell_type": "markdown",
   "id": "b6469637-e654-4adf-98aa-de20316ebb7b",
   "metadata": {},
   "source": [
    "There is a critical need to provide accurate insights into the factors influencing housing prices. Our objective is to analyze a comprehensive dataset containing various attributes of properties and their corresponding prices to identify the primary drivers impacting housing prices. \n",
    "By understanding these factors, we aim to equip homeowners with valuable information to make informed decisions regarding pricing, investment, and negotiation strategies.\n",
    "The ultimate goal is to optimize the process of buying and selling properties, ensuring maximum value for homeowners and facilitating successful transactions in the real estate market."
   ]
  },
  {
   "cell_type": "markdown",
   "id": "ff013f45-9ec5-4d83-a682-b8471073b4fa",
   "metadata": {},
   "source": [
    "# OBJECTIVES"
   ]
  },
  {
   "cell_type": "markdown",
   "id": "e4ae3f52-5577-49e1-a37d-8069aa47b413",
   "metadata": {},
   "source": [
    "## Primary objective"
   ]
  },
  {
   "cell_type": "markdown",
   "id": "44caee4d-9068-4954-a8eb-38edc6aa1b9d",
   "metadata": {},
   "source": [
    "The primary objective of this project is to develop a predictive regression model that forecasts house prices based on property characteristics, enabling real estate agencies to offer informed advice to clients regarding potential fluctuations in property value."
   ]
  },
  {
   "cell_type": "markdown",
   "id": "1828317e-1bc6-4b8e-9adb-21049b37a1ce",
   "metadata": {},
   "source": [
    "## Specific objectives"
   ]
  },
  {
   "cell_type": "markdown",
   "id": "c37b740b-30d7-40e5-8587-e7061371b899",
   "metadata": {},
   "source": [
    "1. Identify the key factors influencing housing prices based on historical data.\n",
    "2. Quantify the impact of these factors on the buying and selling prices of houses.\n",
    "3. Develop predictive models to forecast housing prices accurately.\n",
    "4. Provide actionable recommendations to stakeholders based on the analysis to enhance their decision-making processes in the real estate market."
   ]
  },
  {
   "cell_type": "markdown",
   "id": "46fddb2d-2474-4746-aba5-c3ec40e227a1",
   "metadata": {},
   "source": [
    "# TABLE OF CONTENTS"
   ]
  },
  {
   "cell_type": "markdown",
   "id": "3dbe8593-50f6-4f29-8df2-38fdafc8664a",
   "metadata": {},
   "source": [
    "1. Data loading\n",
    "2. Data inspection and understanding\n",
    "3. Data cleaning\n",
    "4. Exploratory data analysis\n",
    "5. Modelling\n",
    "6. Regression Results\n",
    "8. Conclusion\n",
    "9. Recommendations"
   ]
  },
  {
   "cell_type": "markdown",
   "id": "e8806983-a99d-4d9f-987d-b1794063f516",
   "metadata": {},
   "source": [
    "## DATA LOADING"
   ]
  },
  {
   "cell_type": "code",
   "execution_count": 2,
   "id": "be2e6b15-6177-42d8-b191-d5225dddc4b3",
   "metadata": {},
   "outputs": [],
   "source": [
    "# Loading the csv file\n",
    "\n",
    "f1 = r\"kc_house_data.csv\"\n",
    "df = pd.read_csv(f1)"
   ]
  },
  {
   "cell_type": "markdown",
   "id": "9dc3ac7b-b2e5-46f4-9ef0-cf97b91d3be7",
   "metadata": {},
   "source": [
    "## DATA INSPECTION AND UNDERSTANDING"
   ]
  },
  {
   "cell_type": "code",
   "execution_count": 3,
   "id": "a7ef61ef-a158-445e-9840-211a829f6f6c",
   "metadata": {},
   "outputs": [
    {
     "data": {
      "text/html": [
       "<div>\n",
       "<style scoped>\n",
       "    .dataframe tbody tr th:only-of-type {\n",
       "        vertical-align: middle;\n",
       "    }\n",
       "\n",
       "    .dataframe tbody tr th {\n",
       "        vertical-align: top;\n",
       "    }\n",
       "\n",
       "    .dataframe thead th {\n",
       "        text-align: right;\n",
       "    }\n",
       "</style>\n",
       "<table border=\"1\" class=\"dataframe\">\n",
       "  <thead>\n",
       "    <tr style=\"text-align: right;\">\n",
       "      <th></th>\n",
       "      <th>id</th>\n",
       "      <th>date</th>\n",
       "      <th>price</th>\n",
       "      <th>bedrooms</th>\n",
       "      <th>bathrooms</th>\n",
       "      <th>sqft_living</th>\n",
       "      <th>sqft_lot</th>\n",
       "      <th>floors</th>\n",
       "      <th>waterfront</th>\n",
       "      <th>view</th>\n",
       "      <th>...</th>\n",
       "      <th>grade</th>\n",
       "      <th>sqft_above</th>\n",
       "      <th>sqft_basement</th>\n",
       "      <th>yr_built</th>\n",
       "      <th>yr_renovated</th>\n",
       "      <th>zipcode</th>\n",
       "      <th>lat</th>\n",
       "      <th>long</th>\n",
       "      <th>sqft_living15</th>\n",
       "      <th>sqft_lot15</th>\n",
       "    </tr>\n",
       "  </thead>\n",
       "  <tbody>\n",
       "    <tr>\n",
       "      <th>0</th>\n",
       "      <td>7129300520</td>\n",
       "      <td>10/13/2014</td>\n",
       "      <td>221900.0</td>\n",
       "      <td>3</td>\n",
       "      <td>1.00</td>\n",
       "      <td>1180</td>\n",
       "      <td>5650</td>\n",
       "      <td>1.0</td>\n",
       "      <td>NaN</td>\n",
       "      <td>NONE</td>\n",
       "      <td>...</td>\n",
       "      <td>7 Average</td>\n",
       "      <td>1180</td>\n",
       "      <td>0.0</td>\n",
       "      <td>1955</td>\n",
       "      <td>0.0</td>\n",
       "      <td>98178</td>\n",
       "      <td>47.5112</td>\n",
       "      <td>-122.257</td>\n",
       "      <td>1340</td>\n",
       "      <td>5650</td>\n",
       "    </tr>\n",
       "    <tr>\n",
       "      <th>1</th>\n",
       "      <td>6414100192</td>\n",
       "      <td>12/9/2014</td>\n",
       "      <td>538000.0</td>\n",
       "      <td>3</td>\n",
       "      <td>2.25</td>\n",
       "      <td>2570</td>\n",
       "      <td>7242</td>\n",
       "      <td>2.0</td>\n",
       "      <td>NO</td>\n",
       "      <td>NONE</td>\n",
       "      <td>...</td>\n",
       "      <td>7 Average</td>\n",
       "      <td>2170</td>\n",
       "      <td>400.0</td>\n",
       "      <td>1951</td>\n",
       "      <td>1991.0</td>\n",
       "      <td>98125</td>\n",
       "      <td>47.7210</td>\n",
       "      <td>-122.319</td>\n",
       "      <td>1690</td>\n",
       "      <td>7639</td>\n",
       "    </tr>\n",
       "    <tr>\n",
       "      <th>2</th>\n",
       "      <td>5631500400</td>\n",
       "      <td>2/25/2015</td>\n",
       "      <td>180000.0</td>\n",
       "      <td>2</td>\n",
       "      <td>1.00</td>\n",
       "      <td>770</td>\n",
       "      <td>10000</td>\n",
       "      <td>1.0</td>\n",
       "      <td>NO</td>\n",
       "      <td>NONE</td>\n",
       "      <td>...</td>\n",
       "      <td>6 Low Average</td>\n",
       "      <td>770</td>\n",
       "      <td>0.0</td>\n",
       "      <td>1933</td>\n",
       "      <td>NaN</td>\n",
       "      <td>98028</td>\n",
       "      <td>47.7379</td>\n",
       "      <td>-122.233</td>\n",
       "      <td>2720</td>\n",
       "      <td>8062</td>\n",
       "    </tr>\n",
       "    <tr>\n",
       "      <th>3</th>\n",
       "      <td>2487200875</td>\n",
       "      <td>12/9/2014</td>\n",
       "      <td>604000.0</td>\n",
       "      <td>4</td>\n",
       "      <td>3.00</td>\n",
       "      <td>1960</td>\n",
       "      <td>5000</td>\n",
       "      <td>1.0</td>\n",
       "      <td>NO</td>\n",
       "      <td>NONE</td>\n",
       "      <td>...</td>\n",
       "      <td>7 Average</td>\n",
       "      <td>1050</td>\n",
       "      <td>910.0</td>\n",
       "      <td>1965</td>\n",
       "      <td>0.0</td>\n",
       "      <td>98136</td>\n",
       "      <td>47.5208</td>\n",
       "      <td>-122.393</td>\n",
       "      <td>1360</td>\n",
       "      <td>5000</td>\n",
       "    </tr>\n",
       "    <tr>\n",
       "      <th>4</th>\n",
       "      <td>1954400510</td>\n",
       "      <td>2/18/2015</td>\n",
       "      <td>510000.0</td>\n",
       "      <td>3</td>\n",
       "      <td>2.00</td>\n",
       "      <td>1680</td>\n",
       "      <td>8080</td>\n",
       "      <td>1.0</td>\n",
       "      <td>NO</td>\n",
       "      <td>NONE</td>\n",
       "      <td>...</td>\n",
       "      <td>8 Good</td>\n",
       "      <td>1680</td>\n",
       "      <td>0.0</td>\n",
       "      <td>1987</td>\n",
       "      <td>0.0</td>\n",
       "      <td>98074</td>\n",
       "      <td>47.6168</td>\n",
       "      <td>-122.045</td>\n",
       "      <td>1800</td>\n",
       "      <td>7503</td>\n",
       "    </tr>\n",
       "  </tbody>\n",
       "</table>\n",
       "<p>5 rows × 21 columns</p>\n",
       "</div>"
      ],
      "text/plain": [
       "           id        date     price  bedrooms  bathrooms  sqft_living  \\\n",
       "0  7129300520  10/13/2014  221900.0         3       1.00         1180   \n",
       "1  6414100192   12/9/2014  538000.0         3       2.25         2570   \n",
       "2  5631500400   2/25/2015  180000.0         2       1.00          770   \n",
       "3  2487200875   12/9/2014  604000.0         4       3.00         1960   \n",
       "4  1954400510   2/18/2015  510000.0         3       2.00         1680   \n",
       "\n",
       "   sqft_lot  floors waterfront  view  ...          grade sqft_above  \\\n",
       "0      5650     1.0        NaN  NONE  ...      7 Average       1180   \n",
       "1      7242     2.0         NO  NONE  ...      7 Average       2170   \n",
       "2     10000     1.0         NO  NONE  ...  6 Low Average        770   \n",
       "3      5000     1.0         NO  NONE  ...      7 Average       1050   \n",
       "4      8080     1.0         NO  NONE  ...         8 Good       1680   \n",
       "\n",
       "   sqft_basement yr_built  yr_renovated  zipcode      lat     long  \\\n",
       "0            0.0     1955           0.0    98178  47.5112 -122.257   \n",
       "1          400.0     1951        1991.0    98125  47.7210 -122.319   \n",
       "2            0.0     1933           NaN    98028  47.7379 -122.233   \n",
       "3          910.0     1965           0.0    98136  47.5208 -122.393   \n",
       "4            0.0     1987           0.0    98074  47.6168 -122.045   \n",
       "\n",
       "   sqft_living15  sqft_lot15  \n",
       "0           1340        5650  \n",
       "1           1690        7639  \n",
       "2           2720        8062  \n",
       "3           1360        5000  \n",
       "4           1800        7503  \n",
       "\n",
       "[5 rows x 21 columns]"
      ]
     },
     "execution_count": 3,
     "metadata": {},
     "output_type": "execute_result"
    }
   ],
   "source": [
    "# Previewing a sample\n",
    "\n",
    "df.head()"
   ]
  },
  {
   "cell_type": "code",
   "execution_count": 4,
   "id": "cb499a80-147d-4cc8-98b2-3bdf48c4db92",
   "metadata": {},
   "outputs": [
    {
     "data": {
      "text/plain": [
       "(21597, 21)"
      ]
     },
     "execution_count": 4,
     "metadata": {},
     "output_type": "execute_result"
    }
   ],
   "source": [
    "# Checking the shape of our dataframe\n",
    "\n",
    "df.shape"
   ]
  },
  {
   "cell_type": "code",
   "execution_count": 5,
   "id": "fa28563b-030e-44ee-bd4b-15be7034fba6",
   "metadata": {},
   "outputs": [
    {
     "name": "stdout",
     "output_type": "stream",
     "text": [
      "<class 'pandas.core.frame.DataFrame'>\n",
      "RangeIndex: 21597 entries, 0 to 21596\n",
      "Data columns (total 21 columns):\n",
      " #   Column         Non-Null Count  Dtype  \n",
      "---  ------         --------------  -----  \n",
      " 0   id             21597 non-null  int64  \n",
      " 1   date           21597 non-null  object \n",
      " 2   price          21597 non-null  float64\n",
      " 3   bedrooms       21597 non-null  int64  \n",
      " 4   bathrooms      21597 non-null  float64\n",
      " 5   sqft_living    21597 non-null  int64  \n",
      " 6   sqft_lot       21597 non-null  int64  \n",
      " 7   floors         21597 non-null  float64\n",
      " 8   waterfront     19221 non-null  object \n",
      " 9   view           21534 non-null  object \n",
      " 10  condition      21597 non-null  object \n",
      " 11  grade          21597 non-null  object \n",
      " 12  sqft_above     21597 non-null  int64  \n",
      " 13  sqft_basement  21597 non-null  object \n",
      " 14  yr_built       21597 non-null  int64  \n",
      " 15  yr_renovated   17755 non-null  float64\n",
      " 16  zipcode        21597 non-null  int64  \n",
      " 17  lat            21597 non-null  float64\n",
      " 18  long           21597 non-null  float64\n",
      " 19  sqft_living15  21597 non-null  int64  \n",
      " 20  sqft_lot15     21597 non-null  int64  \n",
      "dtypes: float64(6), int64(9), object(6)\n",
      "memory usage: 3.5+ MB\n"
     ]
    }
   ],
   "source": [
    "# Checking the info and uniformity of our dataframe\n",
    "\n",
    "df.info()"
   ]
  },
  {
   "cell_type": "markdown",
   "id": "36b03b4f-422e-4608-80b2-0af82ddb0ff6",
   "metadata": {},
   "source": [
    "* We have three different data types in our dataset - float64, int64, object."
   ]
  },
  {
   "cell_type": "code",
   "execution_count": 6,
   "id": "0231ba5f-4275-4782-b1e9-d217464d04a6",
   "metadata": {},
   "outputs": [
    {
     "data": {
      "text/html": [
       "<div>\n",
       "<style scoped>\n",
       "    .dataframe tbody tr th:only-of-type {\n",
       "        vertical-align: middle;\n",
       "    }\n",
       "\n",
       "    .dataframe tbody tr th {\n",
       "        vertical-align: top;\n",
       "    }\n",
       "\n",
       "    .dataframe thead th {\n",
       "        text-align: right;\n",
       "    }\n",
       "</style>\n",
       "<table border=\"1\" class=\"dataframe\">\n",
       "  <thead>\n",
       "    <tr style=\"text-align: right;\">\n",
       "      <th></th>\n",
       "      <th>id</th>\n",
       "      <th>price</th>\n",
       "      <th>bedrooms</th>\n",
       "      <th>bathrooms</th>\n",
       "      <th>sqft_living</th>\n",
       "      <th>sqft_lot</th>\n",
       "      <th>floors</th>\n",
       "      <th>sqft_above</th>\n",
       "      <th>yr_built</th>\n",
       "      <th>yr_renovated</th>\n",
       "      <th>zipcode</th>\n",
       "      <th>lat</th>\n",
       "      <th>long</th>\n",
       "      <th>sqft_living15</th>\n",
       "      <th>sqft_lot15</th>\n",
       "    </tr>\n",
       "  </thead>\n",
       "  <tbody>\n",
       "    <tr>\n",
       "      <th>count</th>\n",
       "      <td>2.159700e+04</td>\n",
       "      <td>2.159700e+04</td>\n",
       "      <td>21597.000000</td>\n",
       "      <td>21597.000000</td>\n",
       "      <td>21597.000000</td>\n",
       "      <td>2.159700e+04</td>\n",
       "      <td>21597.000000</td>\n",
       "      <td>21597.000000</td>\n",
       "      <td>21597.000000</td>\n",
       "      <td>17755.000000</td>\n",
       "      <td>21597.000000</td>\n",
       "      <td>21597.000000</td>\n",
       "      <td>21597.000000</td>\n",
       "      <td>21597.000000</td>\n",
       "      <td>21597.000000</td>\n",
       "    </tr>\n",
       "    <tr>\n",
       "      <th>mean</th>\n",
       "      <td>4.580474e+09</td>\n",
       "      <td>5.402966e+05</td>\n",
       "      <td>3.373200</td>\n",
       "      <td>2.115826</td>\n",
       "      <td>2080.321850</td>\n",
       "      <td>1.509941e+04</td>\n",
       "      <td>1.494096</td>\n",
       "      <td>1788.596842</td>\n",
       "      <td>1970.999676</td>\n",
       "      <td>83.636778</td>\n",
       "      <td>98077.951845</td>\n",
       "      <td>47.560093</td>\n",
       "      <td>-122.213982</td>\n",
       "      <td>1986.620318</td>\n",
       "      <td>12758.283512</td>\n",
       "    </tr>\n",
       "    <tr>\n",
       "      <th>std</th>\n",
       "      <td>2.876736e+09</td>\n",
       "      <td>3.673681e+05</td>\n",
       "      <td>0.926299</td>\n",
       "      <td>0.768984</td>\n",
       "      <td>918.106125</td>\n",
       "      <td>4.141264e+04</td>\n",
       "      <td>0.539683</td>\n",
       "      <td>827.759761</td>\n",
       "      <td>29.375234</td>\n",
       "      <td>399.946414</td>\n",
       "      <td>53.513072</td>\n",
       "      <td>0.138552</td>\n",
       "      <td>0.140724</td>\n",
       "      <td>685.230472</td>\n",
       "      <td>27274.441950</td>\n",
       "    </tr>\n",
       "    <tr>\n",
       "      <th>min</th>\n",
       "      <td>1.000102e+06</td>\n",
       "      <td>7.800000e+04</td>\n",
       "      <td>1.000000</td>\n",
       "      <td>0.500000</td>\n",
       "      <td>370.000000</td>\n",
       "      <td>5.200000e+02</td>\n",
       "      <td>1.000000</td>\n",
       "      <td>370.000000</td>\n",
       "      <td>1900.000000</td>\n",
       "      <td>0.000000</td>\n",
       "      <td>98001.000000</td>\n",
       "      <td>47.155900</td>\n",
       "      <td>-122.519000</td>\n",
       "      <td>399.000000</td>\n",
       "      <td>651.000000</td>\n",
       "    </tr>\n",
       "    <tr>\n",
       "      <th>25%</th>\n",
       "      <td>2.123049e+09</td>\n",
       "      <td>3.220000e+05</td>\n",
       "      <td>3.000000</td>\n",
       "      <td>1.750000</td>\n",
       "      <td>1430.000000</td>\n",
       "      <td>5.040000e+03</td>\n",
       "      <td>1.000000</td>\n",
       "      <td>1190.000000</td>\n",
       "      <td>1951.000000</td>\n",
       "      <td>0.000000</td>\n",
       "      <td>98033.000000</td>\n",
       "      <td>47.471100</td>\n",
       "      <td>-122.328000</td>\n",
       "      <td>1490.000000</td>\n",
       "      <td>5100.000000</td>\n",
       "    </tr>\n",
       "    <tr>\n",
       "      <th>50%</th>\n",
       "      <td>3.904930e+09</td>\n",
       "      <td>4.500000e+05</td>\n",
       "      <td>3.000000</td>\n",
       "      <td>2.250000</td>\n",
       "      <td>1910.000000</td>\n",
       "      <td>7.618000e+03</td>\n",
       "      <td>1.500000</td>\n",
       "      <td>1560.000000</td>\n",
       "      <td>1975.000000</td>\n",
       "      <td>0.000000</td>\n",
       "      <td>98065.000000</td>\n",
       "      <td>47.571800</td>\n",
       "      <td>-122.231000</td>\n",
       "      <td>1840.000000</td>\n",
       "      <td>7620.000000</td>\n",
       "    </tr>\n",
       "    <tr>\n",
       "      <th>75%</th>\n",
       "      <td>7.308900e+09</td>\n",
       "      <td>6.450000e+05</td>\n",
       "      <td>4.000000</td>\n",
       "      <td>2.500000</td>\n",
       "      <td>2550.000000</td>\n",
       "      <td>1.068500e+04</td>\n",
       "      <td>2.000000</td>\n",
       "      <td>2210.000000</td>\n",
       "      <td>1997.000000</td>\n",
       "      <td>0.000000</td>\n",
       "      <td>98118.000000</td>\n",
       "      <td>47.678000</td>\n",
       "      <td>-122.125000</td>\n",
       "      <td>2360.000000</td>\n",
       "      <td>10083.000000</td>\n",
       "    </tr>\n",
       "    <tr>\n",
       "      <th>max</th>\n",
       "      <td>9.900000e+09</td>\n",
       "      <td>7.700000e+06</td>\n",
       "      <td>33.000000</td>\n",
       "      <td>8.000000</td>\n",
       "      <td>13540.000000</td>\n",
       "      <td>1.651359e+06</td>\n",
       "      <td>3.500000</td>\n",
       "      <td>9410.000000</td>\n",
       "      <td>2015.000000</td>\n",
       "      <td>2015.000000</td>\n",
       "      <td>98199.000000</td>\n",
       "      <td>47.777600</td>\n",
       "      <td>-121.315000</td>\n",
       "      <td>6210.000000</td>\n",
       "      <td>871200.000000</td>\n",
       "    </tr>\n",
       "  </tbody>\n",
       "</table>\n",
       "</div>"
      ],
      "text/plain": [
       "                 id         price      bedrooms     bathrooms   sqft_living  \\\n",
       "count  2.159700e+04  2.159700e+04  21597.000000  21597.000000  21597.000000   \n",
       "mean   4.580474e+09  5.402966e+05      3.373200      2.115826   2080.321850   \n",
       "std    2.876736e+09  3.673681e+05      0.926299      0.768984    918.106125   \n",
       "min    1.000102e+06  7.800000e+04      1.000000      0.500000    370.000000   \n",
       "25%    2.123049e+09  3.220000e+05      3.000000      1.750000   1430.000000   \n",
       "50%    3.904930e+09  4.500000e+05      3.000000      2.250000   1910.000000   \n",
       "75%    7.308900e+09  6.450000e+05      4.000000      2.500000   2550.000000   \n",
       "max    9.900000e+09  7.700000e+06     33.000000      8.000000  13540.000000   \n",
       "\n",
       "           sqft_lot        floors    sqft_above      yr_built  yr_renovated  \\\n",
       "count  2.159700e+04  21597.000000  21597.000000  21597.000000  17755.000000   \n",
       "mean   1.509941e+04      1.494096   1788.596842   1970.999676     83.636778   \n",
       "std    4.141264e+04      0.539683    827.759761     29.375234    399.946414   \n",
       "min    5.200000e+02      1.000000    370.000000   1900.000000      0.000000   \n",
       "25%    5.040000e+03      1.000000   1190.000000   1951.000000      0.000000   \n",
       "50%    7.618000e+03      1.500000   1560.000000   1975.000000      0.000000   \n",
       "75%    1.068500e+04      2.000000   2210.000000   1997.000000      0.000000   \n",
       "max    1.651359e+06      3.500000   9410.000000   2015.000000   2015.000000   \n",
       "\n",
       "            zipcode           lat          long  sqft_living15     sqft_lot15  \n",
       "count  21597.000000  21597.000000  21597.000000   21597.000000   21597.000000  \n",
       "mean   98077.951845     47.560093   -122.213982    1986.620318   12758.283512  \n",
       "std       53.513072      0.138552      0.140724     685.230472   27274.441950  \n",
       "min    98001.000000     47.155900   -122.519000     399.000000     651.000000  \n",
       "25%    98033.000000     47.471100   -122.328000    1490.000000    5100.000000  \n",
       "50%    98065.000000     47.571800   -122.231000    1840.000000    7620.000000  \n",
       "75%    98118.000000     47.678000   -122.125000    2360.000000   10083.000000  \n",
       "max    98199.000000     47.777600   -121.315000    6210.000000  871200.000000  "
      ]
     },
     "execution_count": 6,
     "metadata": {},
     "output_type": "execute_result"
    }
   ],
   "source": [
    "# Checking data numerical summaries\n",
    "\n",
    "df.describe()"
   ]
  },
  {
   "cell_type": "markdown",
   "id": "2e338fa7-dcbe-4bbf-bdd2-ab4de54b5344",
   "metadata": {},
   "source": [
    "## DATA CLEANING"
   ]
  },
  {
   "cell_type": "code",
   "execution_count": 7,
   "id": "9249ae2f-0205-4831-8749-59e1d2f14c0f",
   "metadata": {},
   "outputs": [],
   "source": [
    "# Making a copy of the merged data set to retain an original copy.\n",
    "# df_clean is our clean dataset\n",
    "\n",
    "df_clean = df.copy()"
   ]
  },
  {
   "cell_type": "markdown",
   "id": "b8a325e1-232a-4c25-9cd0-565435273d5d",
   "metadata": {},
   "source": [
    "#### Checking for completeness of our data"
   ]
  },
  {
   "cell_type": "code",
   "execution_count": 8,
   "id": "a300f562-74ba-4313-986f-e1a2fc293b94",
   "metadata": {},
   "outputs": [
    {
     "data": {
      "text/plain": [
       "id               0.000000\n",
       "date             0.000000\n",
       "price            0.000000\n",
       "bedrooms         0.000000\n",
       "bathrooms        0.000000\n",
       "sqft_living      0.000000\n",
       "sqft_lot         0.000000\n",
       "floors           0.000000\n",
       "waterfront       0.110015\n",
       "view             0.002917\n",
       "condition        0.000000\n",
       "grade            0.000000\n",
       "sqft_above       0.000000\n",
       "sqft_basement    0.000000\n",
       "yr_built         0.000000\n",
       "yr_renovated     0.177895\n",
       "zipcode          0.000000\n",
       "lat              0.000000\n",
       "long             0.000000\n",
       "sqft_living15    0.000000\n",
       "sqft_lot15       0.000000\n",
       "dtype: float64"
      ]
     },
     "execution_count": 8,
     "metadata": {},
     "output_type": "execute_result"
    }
   ],
   "source": [
    "# Checking the proportion of our missing data\n",
    "\n",
    "df_clean.isnull().mean()"
   ]
  },
  {
   "cell_type": "markdown",
   "id": "d0372400-ce06-434a-905b-3f9991914cf9",
   "metadata": {},
   "source": [
    "* Let's check the value counts of the columns with missing values."
   ]
  },
  {
   "cell_type": "code",
   "execution_count": 9,
   "id": "695900de-8016-4f38-ba68-cfd5c75a0656",
   "metadata": {},
   "outputs": [
    {
     "name": "stdout",
     "output_type": "stream",
     "text": [
      "Value counts for yr_renovated:\n",
      "yr_renovated\n",
      "0.0       17011\n",
      "2014.0       73\n",
      "2013.0       31\n",
      "2003.0       31\n",
      "2007.0       30\n",
      "          ...  \n",
      "1951.0        1\n",
      "1953.0        1\n",
      "1946.0        1\n",
      "1976.0        1\n",
      "1948.0        1\n",
      "Name: count, Length: 70, dtype: int64\n",
      "\n",
      "Value counts for view:\n",
      "view\n",
      "NONE         19422\n",
      "AVERAGE        957\n",
      "GOOD           508\n",
      "FAIR           330\n",
      "EXCELLENT      317\n",
      "Name: count, dtype: int64\n",
      "\n",
      "Value counts for waterfront:\n",
      "waterfront\n",
      "NO     19075\n",
      "YES      146\n",
      "Name: count, dtype: int64\n"
     ]
    }
   ],
   "source": [
    "\n",
    "\n",
    "# Calculate value counts for each column\n",
    "value_counts_col1 = df['yr_renovated'].value_counts()\n",
    "value_counts_col2 = df['view'].value_counts()\n",
    "value_counts_col3 = df['waterfront'].value_counts()\n",
    "\n",
    "print(\"Value counts for yr_renovated:\")\n",
    "print(value_counts_col1)\n",
    "\n",
    "print(\"\\nValue counts for view:\")\n",
    "print(value_counts_col2)\n",
    "\n",
    "print(\"\\nValue counts for waterfront:\")\n",
    "print(value_counts_col3)"
   ]
  },
  {
   "cell_type": "markdown",
   "id": "b2f9eba4-4f83-401e-98e2-7ccd9015e028",
   "metadata": {},
   "source": [
    "* A larger percentage of the data has the values 0.0. We can drop this column as replacing missing values with the mean or the most frequent value will lead to inaccuracy of our data.\n",
    "* Most of the houses do not have a view. The proportion of missing data is very small and hence we can replace the missing values with NONE.\n",
    "* Majority of the houses do not have a waterfront. We can replace the missing values here with NO as it is the most frequent."
   ]
  },
  {
   "cell_type": "markdown",
   "id": "cbae69c6-7e08-4d8c-984a-529bc0c8bf44",
   "metadata": {},
   "source": [
    "#### Dropping irrelevant columns"
   ]
  },
  {
   "cell_type": "code",
   "execution_count": 10,
   "id": "669e594a-e420-409e-8b9d-0a7ce642fd1a",
   "metadata": {},
   "outputs": [],
   "source": [
    "# dropping irrelevant columns\n",
    "\n",
    "df_clean = df_clean.drop(columns=[\"lat\", \"long\", \"zipcode\", \"yr_renovated\"])"
   ]
  },
  {
   "cell_type": "markdown",
   "id": "6bb87ee6-a30c-4e8e-b583-1ff9e5189e29",
   "metadata": {},
   "source": [
    "#### Handling missing values"
   ]
  },
  {
   "cell_type": "code",
   "execution_count": 11,
   "id": "303380d3-c505-4b2f-9443-5d8ddfd45f2a",
   "metadata": {},
   "outputs": [],
   "source": [
    "# Filling missing values in waterfront column with 'NO'\n",
    "\n",
    "df_clean['waterfront'].fillna('NO', inplace=True)"
   ]
  },
  {
   "cell_type": "code",
   "execution_count": 12,
   "id": "151b11dd-765a-4d1e-a719-d735a67cb0fd",
   "metadata": {},
   "outputs": [],
   "source": [
    "# Filling missing valuees in view column with 'NONE'\n",
    "\n",
    "df_clean['view'].fillna('NONE', inplace=True)"
   ]
  },
  {
   "cell_type": "code",
   "execution_count": 13,
   "id": "e3772464-0de0-492d-bd46-acb55d76c0a7",
   "metadata": {},
   "outputs": [
    {
     "data": {
      "text/plain": [
       "id               0.0\n",
       "date             0.0\n",
       "price            0.0\n",
       "bedrooms         0.0\n",
       "bathrooms        0.0\n",
       "sqft_living      0.0\n",
       "sqft_lot         0.0\n",
       "floors           0.0\n",
       "waterfront       0.0\n",
       "view             0.0\n",
       "condition        0.0\n",
       "grade            0.0\n",
       "sqft_above       0.0\n",
       "sqft_basement    0.0\n",
       "yr_built         0.0\n",
       "sqft_living15    0.0\n",
       "sqft_lot15       0.0\n",
       "dtype: float64"
      ]
     },
     "execution_count": 13,
     "metadata": {},
     "output_type": "execute_result"
    }
   ],
   "source": [
    "# Check if missing values have been handled\n",
    "\n",
    "df_clean.isnull().mean()"
   ]
  },
  {
   "cell_type": "markdown",
   "id": "7ebb94c5-0703-4eec-831d-671c5490a35d",
   "metadata": {},
   "source": [
    "* We now have no missing values."
   ]
  },
  {
   "cell_type": "code",
   "execution_count": 14,
   "id": "3902a791-bf08-46e9-aae8-97bca1988e83",
   "metadata": {},
   "outputs": [
    {
     "name": "stdout",
     "output_type": "stream",
     "text": [
      "No duplicates found.\n"
     ]
    }
   ],
   "source": [
    "#  Checking for duplicates\n",
    "\n",
    "duplicates = df_clean[df_clean.duplicated()]\n",
    "\n",
    "if duplicates.empty:\n",
    "    print(\"No duplicates found.\")\n",
    "else:\n",
    "    print(\"Duplicates found.\")\n",
    "    print(duplicates)\n"
   ]
  },
  {
   "cell_type": "markdown",
   "id": "e16a31f3-6f2a-40c2-b674-b702697e64e3",
   "metadata": {},
   "source": [
    "* Let us check for duplicates in th ID column as it is our unique identifier."
   ]
  },
  {
   "cell_type": "code",
   "execution_count": 15,
   "id": "4a3e760d-bbdb-44a6-bf10-e043b94a1f6a",
   "metadata": {},
   "outputs": [
    {
     "data": {
      "text/html": [
       "<div>\n",
       "<style scoped>\n",
       "    .dataframe tbody tr th:only-of-type {\n",
       "        vertical-align: middle;\n",
       "    }\n",
       "\n",
       "    .dataframe tbody tr th {\n",
       "        vertical-align: top;\n",
       "    }\n",
       "\n",
       "    .dataframe thead th {\n",
       "        text-align: right;\n",
       "    }\n",
       "</style>\n",
       "<table border=\"1\" class=\"dataframe\">\n",
       "  <thead>\n",
       "    <tr style=\"text-align: right;\">\n",
       "      <th></th>\n",
       "      <th>id</th>\n",
       "      <th>date</th>\n",
       "      <th>price</th>\n",
       "      <th>bedrooms</th>\n",
       "      <th>bathrooms</th>\n",
       "      <th>sqft_living</th>\n",
       "      <th>sqft_lot</th>\n",
       "      <th>floors</th>\n",
       "      <th>waterfront</th>\n",
       "      <th>view</th>\n",
       "      <th>condition</th>\n",
       "      <th>grade</th>\n",
       "      <th>sqft_above</th>\n",
       "      <th>sqft_basement</th>\n",
       "      <th>yr_built</th>\n",
       "      <th>sqft_living15</th>\n",
       "      <th>sqft_lot15</th>\n",
       "    </tr>\n",
       "  </thead>\n",
       "  <tbody>\n",
       "    <tr>\n",
       "      <th>94</th>\n",
       "      <td>6021501535</td>\n",
       "      <td>12/23/2014</td>\n",
       "      <td>700000.0</td>\n",
       "      <td>3</td>\n",
       "      <td>1.50</td>\n",
       "      <td>1580</td>\n",
       "      <td>5000</td>\n",
       "      <td>1.0</td>\n",
       "      <td>NO</td>\n",
       "      <td>NONE</td>\n",
       "      <td>Average</td>\n",
       "      <td>8 Good</td>\n",
       "      <td>1290</td>\n",
       "      <td>290.0</td>\n",
       "      <td>1939</td>\n",
       "      <td>1570</td>\n",
       "      <td>4500</td>\n",
       "    </tr>\n",
       "    <tr>\n",
       "      <th>314</th>\n",
       "      <td>4139480200</td>\n",
       "      <td>12/9/2014</td>\n",
       "      <td>1400000.0</td>\n",
       "      <td>4</td>\n",
       "      <td>3.25</td>\n",
       "      <td>4290</td>\n",
       "      <td>12103</td>\n",
       "      <td>1.0</td>\n",
       "      <td>NO</td>\n",
       "      <td>GOOD</td>\n",
       "      <td>Average</td>\n",
       "      <td>11 Excellent</td>\n",
       "      <td>2690</td>\n",
       "      <td>1600.0</td>\n",
       "      <td>1997</td>\n",
       "      <td>3860</td>\n",
       "      <td>11244</td>\n",
       "    </tr>\n",
       "    <tr>\n",
       "      <th>325</th>\n",
       "      <td>7520000520</td>\n",
       "      <td>3/11/2015</td>\n",
       "      <td>240500.0</td>\n",
       "      <td>2</td>\n",
       "      <td>1.00</td>\n",
       "      <td>1240</td>\n",
       "      <td>12092</td>\n",
       "      <td>1.0</td>\n",
       "      <td>NO</td>\n",
       "      <td>NONE</td>\n",
       "      <td>Average</td>\n",
       "      <td>6 Low Average</td>\n",
       "      <td>960</td>\n",
       "      <td>280.0</td>\n",
       "      <td>1922</td>\n",
       "      <td>1820</td>\n",
       "      <td>7460</td>\n",
       "    </tr>\n",
       "    <tr>\n",
       "      <th>346</th>\n",
       "      <td>3969300030</td>\n",
       "      <td>12/29/2014</td>\n",
       "      <td>239900.0</td>\n",
       "      <td>4</td>\n",
       "      <td>1.00</td>\n",
       "      <td>1000</td>\n",
       "      <td>7134</td>\n",
       "      <td>1.0</td>\n",
       "      <td>NO</td>\n",
       "      <td>NONE</td>\n",
       "      <td>Average</td>\n",
       "      <td>6 Low Average</td>\n",
       "      <td>1000</td>\n",
       "      <td>0.0</td>\n",
       "      <td>1943</td>\n",
       "      <td>1020</td>\n",
       "      <td>7138</td>\n",
       "    </tr>\n",
       "    <tr>\n",
       "      <th>372</th>\n",
       "      <td>2231500030</td>\n",
       "      <td>3/24/2015</td>\n",
       "      <td>530000.0</td>\n",
       "      <td>4</td>\n",
       "      <td>2.25</td>\n",
       "      <td>2180</td>\n",
       "      <td>10754</td>\n",
       "      <td>1.0</td>\n",
       "      <td>NO</td>\n",
       "      <td>NONE</td>\n",
       "      <td>Very Good</td>\n",
       "      <td>7 Average</td>\n",
       "      <td>1100</td>\n",
       "      <td>1080.0</td>\n",
       "      <td>1954</td>\n",
       "      <td>1810</td>\n",
       "      <td>6929</td>\n",
       "    </tr>\n",
       "    <tr>\n",
       "      <th>...</th>\n",
       "      <td>...</td>\n",
       "      <td>...</td>\n",
       "      <td>...</td>\n",
       "      <td>...</td>\n",
       "      <td>...</td>\n",
       "      <td>...</td>\n",
       "      <td>...</td>\n",
       "      <td>...</td>\n",
       "      <td>...</td>\n",
       "      <td>...</td>\n",
       "      <td>...</td>\n",
       "      <td>...</td>\n",
       "      <td>...</td>\n",
       "      <td>...</td>\n",
       "      <td>...</td>\n",
       "      <td>...</td>\n",
       "      <td>...</td>\n",
       "    </tr>\n",
       "    <tr>\n",
       "      <th>20165</th>\n",
       "      <td>7853400250</td>\n",
       "      <td>2/19/2015</td>\n",
       "      <td>645000.0</td>\n",
       "      <td>4</td>\n",
       "      <td>3.50</td>\n",
       "      <td>2910</td>\n",
       "      <td>5260</td>\n",
       "      <td>2.0</td>\n",
       "      <td>NO</td>\n",
       "      <td>NONE</td>\n",
       "      <td>Average</td>\n",
       "      <td>9 Better</td>\n",
       "      <td>2910</td>\n",
       "      <td>0.0</td>\n",
       "      <td>2012</td>\n",
       "      <td>2910</td>\n",
       "      <td>5260</td>\n",
       "    </tr>\n",
       "    <tr>\n",
       "      <th>20597</th>\n",
       "      <td>2724049222</td>\n",
       "      <td>12/1/2014</td>\n",
       "      <td>220000.0</td>\n",
       "      <td>2</td>\n",
       "      <td>2.50</td>\n",
       "      <td>1000</td>\n",
       "      <td>1092</td>\n",
       "      <td>2.0</td>\n",
       "      <td>NO</td>\n",
       "      <td>NONE</td>\n",
       "      <td>Average</td>\n",
       "      <td>7 Average</td>\n",
       "      <td>990</td>\n",
       "      <td>10.0</td>\n",
       "      <td>2004</td>\n",
       "      <td>1330</td>\n",
       "      <td>1466</td>\n",
       "    </tr>\n",
       "    <tr>\n",
       "      <th>20654</th>\n",
       "      <td>8564860270</td>\n",
       "      <td>3/30/2015</td>\n",
       "      <td>502000.0</td>\n",
       "      <td>4</td>\n",
       "      <td>2.50</td>\n",
       "      <td>2680</td>\n",
       "      <td>5539</td>\n",
       "      <td>2.0</td>\n",
       "      <td>NO</td>\n",
       "      <td>NONE</td>\n",
       "      <td>Average</td>\n",
       "      <td>8 Good</td>\n",
       "      <td>2680</td>\n",
       "      <td>0.0</td>\n",
       "      <td>2013</td>\n",
       "      <td>2680</td>\n",
       "      <td>5992</td>\n",
       "    </tr>\n",
       "    <tr>\n",
       "      <th>20764</th>\n",
       "      <td>6300000226</td>\n",
       "      <td>5/4/2015</td>\n",
       "      <td>380000.0</td>\n",
       "      <td>4</td>\n",
       "      <td>1.00</td>\n",
       "      <td>1200</td>\n",
       "      <td>2171</td>\n",
       "      <td>1.5</td>\n",
       "      <td>NO</td>\n",
       "      <td>NONE</td>\n",
       "      <td>Average</td>\n",
       "      <td>7 Average</td>\n",
       "      <td>1200</td>\n",
       "      <td>0.0</td>\n",
       "      <td>1933</td>\n",
       "      <td>1130</td>\n",
       "      <td>1598</td>\n",
       "    </tr>\n",
       "    <tr>\n",
       "      <th>21565</th>\n",
       "      <td>7853420110</td>\n",
       "      <td>5/4/2015</td>\n",
       "      <td>625000.0</td>\n",
       "      <td>3</td>\n",
       "      <td>3.00</td>\n",
       "      <td>2780</td>\n",
       "      <td>6000</td>\n",
       "      <td>2.0</td>\n",
       "      <td>NO</td>\n",
       "      <td>NONE</td>\n",
       "      <td>Average</td>\n",
       "      <td>9 Better</td>\n",
       "      <td>2780</td>\n",
       "      <td>0.0</td>\n",
       "      <td>2013</td>\n",
       "      <td>2850</td>\n",
       "      <td>6000</td>\n",
       "    </tr>\n",
       "  </tbody>\n",
       "</table>\n",
       "<p>177 rows × 17 columns</p>\n",
       "</div>"
      ],
      "text/plain": [
       "               id        date      price  bedrooms  bathrooms  sqft_living  \\\n",
       "94     6021501535  12/23/2014   700000.0         3       1.50         1580   \n",
       "314    4139480200   12/9/2014  1400000.0         4       3.25         4290   \n",
       "325    7520000520   3/11/2015   240500.0         2       1.00         1240   \n",
       "346    3969300030  12/29/2014   239900.0         4       1.00         1000   \n",
       "372    2231500030   3/24/2015   530000.0         4       2.25         2180   \n",
       "...           ...         ...        ...       ...        ...          ...   \n",
       "20165  7853400250   2/19/2015   645000.0         4       3.50         2910   \n",
       "20597  2724049222   12/1/2014   220000.0         2       2.50         1000   \n",
       "20654  8564860270   3/30/2015   502000.0         4       2.50         2680   \n",
       "20764  6300000226    5/4/2015   380000.0         4       1.00         1200   \n",
       "21565  7853420110    5/4/2015   625000.0         3       3.00         2780   \n",
       "\n",
       "       sqft_lot  floors waterfront  view  condition          grade  \\\n",
       "94         5000     1.0         NO  NONE    Average         8 Good   \n",
       "314       12103     1.0         NO  GOOD    Average   11 Excellent   \n",
       "325       12092     1.0         NO  NONE    Average  6 Low Average   \n",
       "346        7134     1.0         NO  NONE    Average  6 Low Average   \n",
       "372       10754     1.0         NO  NONE  Very Good      7 Average   \n",
       "...         ...     ...        ...   ...        ...            ...   \n",
       "20165      5260     2.0         NO  NONE    Average       9 Better   \n",
       "20597      1092     2.0         NO  NONE    Average      7 Average   \n",
       "20654      5539     2.0         NO  NONE    Average         8 Good   \n",
       "20764      2171     1.5         NO  NONE    Average      7 Average   \n",
       "21565      6000     2.0         NO  NONE    Average       9 Better   \n",
       "\n",
       "       sqft_above sqft_basement  yr_built  sqft_living15  sqft_lot15  \n",
       "94           1290         290.0      1939           1570        4500  \n",
       "314          2690        1600.0      1997           3860       11244  \n",
       "325           960         280.0      1922           1820        7460  \n",
       "346          1000           0.0      1943           1020        7138  \n",
       "372          1100        1080.0      1954           1810        6929  \n",
       "...           ...           ...       ...            ...         ...  \n",
       "20165        2910           0.0      2012           2910        5260  \n",
       "20597         990          10.0      2004           1330        1466  \n",
       "20654        2680           0.0      2013           2680        5992  \n",
       "20764        1200           0.0      1933           1130        1598  \n",
       "21565        2780           0.0      2013           2850        6000  \n",
       "\n",
       "[177 rows x 17 columns]"
      ]
     },
     "execution_count": 15,
     "metadata": {},
     "output_type": "execute_result"
    }
   ],
   "source": [
    "# Checking for duplicates using the 'id' column\n",
    "\n",
    "df_clean[df_clean.duplicated(subset=[\"id\"])]"
   ]
  },
  {
   "cell_type": "markdown",
   "id": "da1abca8-2f7e-4c92-9464-c883be836710",
   "metadata": {},
   "source": [
    "* We will drop the duplicates as they can introduce inconsistencies to our data."
   ]
  },
  {
   "cell_type": "code",
   "execution_count": 16,
   "id": "02a07d6f-c3f4-481b-bd89-89ba36a6d816",
   "metadata": {},
   "outputs": [],
   "source": [
    "df_clean.drop_duplicates(subset=[\"id\"], inplace=True)"
   ]
  },
  {
   "cell_type": "code",
   "execution_count": 17,
   "id": "ed8a916d-a9c0-4284-9f47-127afb8887bd",
   "metadata": {},
   "outputs": [
    {
     "data": {
      "text/html": [
       "<div>\n",
       "<style scoped>\n",
       "    .dataframe tbody tr th:only-of-type {\n",
       "        vertical-align: middle;\n",
       "    }\n",
       "\n",
       "    .dataframe tbody tr th {\n",
       "        vertical-align: top;\n",
       "    }\n",
       "\n",
       "    .dataframe thead th {\n",
       "        text-align: right;\n",
       "    }\n",
       "</style>\n",
       "<table border=\"1\" class=\"dataframe\">\n",
       "  <thead>\n",
       "    <tr style=\"text-align: right;\">\n",
       "      <th></th>\n",
       "      <th>id</th>\n",
       "      <th>date</th>\n",
       "      <th>price</th>\n",
       "      <th>bedrooms</th>\n",
       "      <th>bathrooms</th>\n",
       "      <th>sqft_living</th>\n",
       "      <th>sqft_lot</th>\n",
       "      <th>floors</th>\n",
       "      <th>waterfront</th>\n",
       "      <th>view</th>\n",
       "      <th>condition</th>\n",
       "      <th>grade</th>\n",
       "      <th>sqft_above</th>\n",
       "      <th>sqft_basement</th>\n",
       "      <th>yr_built</th>\n",
       "      <th>sqft_living15</th>\n",
       "      <th>sqft_lot15</th>\n",
       "    </tr>\n",
       "  </thead>\n",
       "  <tbody>\n",
       "  </tbody>\n",
       "</table>\n",
       "</div>"
      ],
      "text/plain": [
       "Empty DataFrame\n",
       "Columns: [id, date, price, bedrooms, bathrooms, sqft_living, sqft_lot, floors, waterfront, view, condition, grade, sqft_above, sqft_basement, yr_built, sqft_living15, sqft_lot15]\n",
       "Index: []"
      ]
     },
     "execution_count": 17,
     "metadata": {},
     "output_type": "execute_result"
    }
   ],
   "source": [
    "# confirm duplicates have been dropped.\n",
    "\n",
    "df_clean[df_clean.duplicated(subset=[\"id\"])]"
   ]
  },
  {
   "cell_type": "markdown",
   "id": "18acb126-0515-4236-a83d-b274cdc0c5dd",
   "metadata": {},
   "source": [
    "#### Checking for placeholders"
   ]
  },
  {
   "cell_type": "markdown",
   "id": "a6e0698c-6ee8-483a-8c6e-213b9169ce26",
   "metadata": {},
   "source": [
    "* Placeholders in data cleaning are values used to represent missing or unknown data in a dataset. They stand in for actual data that is unavailable or not recorded.\n",
    "* Placeholders include - NaN, \n",
    "Nul , Non, \" \" , s\n",
    "Special co such as;g., -1, 99 ble\"\n",
    "\"Mi and others.plicable\""
   ]
  },
  {
   "cell_type": "code",
   "execution_count": 18,
   "id": "e7bd478c-80e0-4720-81f6-49971a90df6a",
   "metadata": {},
   "outputs": [
    {
     "name": "stdout",
     "output_type": "stream",
     "text": [
      "Column 'sqft_basement': Found 452 occurrences of potential placeholder '?'\n"
     ]
    }
   ],
   "source": [
    "potential_placeholders = [\" \" , \"-\", \"--\", \"?\", \"??\" , \"#\",\"#####\" , \"-1\" , \"9999\", \"999\" , \"unknown\", \"missing\", \"na\" , \"n/a\"]\n",
    "\n",
    "# Loop through each column and check for potential placeholders\n",
    "found_placeholder = False\n",
    "for column in df_clean.columns:\n",
    "    unique_values = df_clean[column].unique()\n",
    "    for value in unique_values:\n",
    "        if pd.isna(value) or (isinstance(value, str) and value.strip().lower() in potential_placeholders):\n",
    "            count = (df_clean[column] == value).sum()\n",
    "            print(f\"Column '{column}': Found {count} occurrences of potential placeholder '{value}'\")\n",
    "            found_placeholder = True\n",
    "\n",
    "if not found_placeholder:\n",
    "    print(\"No potential placeholders found in the DataFrame.\")\n"
   ]
  },
  {
   "cell_type": "code",
   "execution_count": 19,
   "id": "11ae8f23-e1e7-44b2-8128-44058cd4ce42",
   "metadata": {},
   "outputs": [
    {
     "name": "stdout",
     "output_type": "stream",
     "text": [
      "Data type after conversion: float64\n"
     ]
    }
   ],
   "source": [
    "\n",
    "# Step 1: Identify the placeholder values\n",
    "placeholder = '?'\n",
    "\n",
    "# Step 2: Replace the placeholder values with 0\n",
    "df_clean['sqft_basement'] = df_clean['sqft_basement'].replace(placeholder, '0')\n",
    "\n",
    "# Step 3: Convert the data type of the column to floats\n",
    "df_clean['sqft_basement'] = df_clean['sqft_basement'].astype(float)\n",
    "\n",
    "# Check if the conversion was successful\n",
    "print(\"Data type after conversion:\", df_clean['sqft_basement'].dtype)\n"
   ]
  },
  {
   "cell_type": "code",
   "execution_count": 20,
   "id": "42030514-6774-4742-8ab5-a728a5f84bf9",
   "metadata": {},
   "outputs": [
    {
     "name": "stdout",
     "output_type": "stream",
     "text": [
      "No potential placeholders found in the DataFrame.\n"
     ]
    }
   ],
   "source": [
    "# Confirm removal of placeholders\n",
    "\n",
    "potential_placeholders = [\" \" , \"-\", \"--\", \"?\", \"??\" , \"#\",\"#####\" , \"-1\" , \"9999\", \"999\" , \"unknown\", \"missing\", \"na\" , \"n/a\"]\n",
    "\n",
    "# Loop through each column and check for potential placeholders\n",
    "found_placeholder = False\n",
    "for column in df_clean.columns:\n",
    "    unique_values = df_clean[column].unique()\n",
    "    for value in unique_values:\n",
    "        if pd.isna(value) or (isinstance(value, str) and value.strip().lower() in potential_placeholders):\n",
    "            count = (df_clean[column] == value).sum()\n",
    "            print(f\"Column '{column}': Found {count} occurrences of potential placeholder '{value}'\")\n",
    "            found_placeholder = True\n",
    "\n",
    "if not found_placeholder:\n",
    "    print(\"No potential placeholders found in the DataFrame.\")"
   ]
  },
  {
   "cell_type": "code",
   "execution_count": 21,
   "id": "7a2d7acc-861a-49fe-981f-b7fe6c3e5598",
   "metadata": {},
   "outputs": [
    {
     "name": "stdout",
     "output_type": "stream",
     "text": [
      "<class 'pandas.core.frame.DataFrame'>\n",
      "Index: 21420 entries, 0 to 21596\n",
      "Data columns (total 17 columns):\n",
      " #   Column         Non-Null Count  Dtype  \n",
      "---  ------         --------------  -----  \n",
      " 0   id             21420 non-null  int64  \n",
      " 1   date           21420 non-null  object \n",
      " 2   price          21420 non-null  float64\n",
      " 3   bedrooms       21420 non-null  int64  \n",
      " 4   bathrooms      21420 non-null  float64\n",
      " 5   sqft_living    21420 non-null  int64  \n",
      " 6   sqft_lot       21420 non-null  int64  \n",
      " 7   floors         21420 non-null  float64\n",
      " 8   waterfront     21420 non-null  object \n",
      " 9   view           21420 non-null  object \n",
      " 10  condition      21420 non-null  object \n",
      " 11  grade          21420 non-null  object \n",
      " 12  sqft_above     21420 non-null  int64  \n",
      " 13  sqft_basement  21420 non-null  float64\n",
      " 14  yr_built       21420 non-null  int64  \n",
      " 15  sqft_living15  21420 non-null  int64  \n",
      " 16  sqft_lot15     21420 non-null  int64  \n",
      "dtypes: float64(4), int64(8), object(5)\n",
      "memory usage: 2.9+ MB\n"
     ]
    }
   ],
   "source": [
    "df_clean.info()"
   ]
  },
  {
   "cell_type": "markdown",
   "id": "56933bd2-ae6b-4675-93fa-dd5e4967a8db",
   "metadata": {},
   "source": [
    "* We have inconsistencies with our data types - date, waterfront, view , condition and grade."
   ]
  },
  {
   "cell_type": "markdown",
   "id": "c3900679-0f93-40af-86a5-c44f8e8d88a4",
   "metadata": {},
   "source": [
    "#### Handling non-numerical data"
   ]
  },
  {
   "cell_type": "markdown",
   "id": "478ca6c7-085b-4b5f-ae52-b660cab93034",
   "metadata": {},
   "source": [
    "* We are checking for value counts to decide how to best handle our non numerical data."
   ]
  },
  {
   "cell_type": "code",
   "execution_count": 22,
   "id": "acdb9939-98ff-403a-8493-eee3b9a14fda",
   "metadata": {},
   "outputs": [
    {
     "name": "stdout",
     "output_type": "stream",
     "text": [
      "Value counts for condition:\n",
      "condition\n",
      "Average      14020\n",
      "Good          5677\n",
      "Very Good     1701\n",
      "Fair           170\n",
      "Poor            29\n",
      "Name: count, dtype: int64\n",
      "\n",
      "Value counts for grade:\n",
      "grade\n",
      "7 Average        8974\n",
      "8 Good           6065\n",
      "9 Better         2615\n",
      "6 Low Average    2038\n",
      "10 Very Good     1134\n",
      "11 Excellent      399\n",
      "5 Fair            242\n",
      "12 Luxury          89\n",
      "4 Low              27\n",
      "13 Mansion         13\n",
      "3 Poor              1\n",
      "Name: count, dtype: int64\n"
     ]
    }
   ],
   "source": [
    "# Calculate value counts for each column\n",
    "value_counts_col4 = df['condition'].value_counts()\n",
    "value_counts_col5 = df['grade'].value_counts()\n",
    "\n",
    "\n",
    "print(\"Value counts for condition:\")\n",
    "print(value_counts_col4)\n",
    "\n",
    "print(\"\\nValue counts for grade:\")\n",
    "print(value_counts_col5)"
   ]
  },
  {
   "cell_type": "markdown",
   "id": "5332f129-17ce-41e3-a930-25123203fafd",
   "metadata": {},
   "source": [
    "* We used the LabelEncoding technique as our values ar hierarchical."
   ]
  },
  {
   "cell_type": "code",
   "execution_count": 23,
   "id": "a12257a3-fffc-462d-8c81-429e57855814",
   "metadata": {},
   "outputs": [],
   "source": [
    "from sklearn.preprocessing import LabelEncoder\n",
    "\n",
    "# label encoder object\n",
    "label_encoder = LabelEncoder()\n",
    "\n",
    "# Encode the 'condition' column\n",
    "df_clean['condition_encoded'] = label_encoder.fit_transform(df_clean['condition'])\n",
    "\n",
    "# Encode the 'grade' column\n",
    "df_clean['grade_encoded'] = label_encoder.fit_transform(df_clean['grade'])\n",
    "\n",
    "# Encode the 'season' column\n",
    "df_clean['view_encoded'] = label_encoder.fit_transform(df_clean['view'])\n"
   ]
  },
  {
   "cell_type": "markdown",
   "id": "ab1d7454-e5e8-4f62-bfe4-405ca15276ea",
   "metadata": {},
   "source": [
    "* We handled our waterfront column by changing the categorical values to binary."
   ]
  },
  {
   "cell_type": "code",
   "execution_count": 24,
   "id": "02381a55-b564-4d34-ac27-008482a6285f",
   "metadata": {},
   "outputs": [],
   "source": [
    "# Define the mapping from original values to binary values\n",
    "mapping = {'NO': 0, 'YES': 1}\n",
    "\n",
    "# Apply the mapping and replace the values in the 'waterfront' column\n",
    "df_clean['waterfront'] = df_clean['waterfront'].map(mapping)\n"
   ]
  },
  {
   "cell_type": "markdown",
   "id": "4858a2b4-7617-4300-a9de-e8cffee7fb1f",
   "metadata": {},
   "source": [
    "#### Feature engineering"
   ]
  },
  {
   "cell_type": "markdown",
   "id": "c499de57-00c4-4a14-b9a0-f2216aaf2a7c",
   "metadata": {},
   "source": [
    "* We are using the `date` feature to create a new feature called `season`, which represents whether the home was sold in Spring, Summer, Fall, or Winter.\n",
    "* This will help with understanding seasonal trends in housing sales."
   ]
  },
  {
   "cell_type": "code",
   "execution_count": 25,
   "id": "b34ec278-27d0-4f39-b361-ade9df93bd93",
   "metadata": {},
   "outputs": [],
   "source": [
    "# Converting 'date' to datetime object \n",
    "df_clean['date'] = pd.to_datetime(df_clean['date'])\n",
    "\n",
    "# Extract month from 'date'\n",
    "df_clean['month'] = df_clean['date'].dt.month\n",
    "\n",
    "# Map month to season\n",
    "season_mapping = {\n",
    "    1: 'Winter',\n",
    "    2: 'Winter',\n",
    "    3: 'Spring',\n",
    "    4: 'Spring',\n",
    "    5: 'Spring',\n",
    "    6: 'Summer',\n",
    "    7: 'Summer',\n",
    "    8: 'Summer',\n",
    "    9: 'Fall',\n",
    "    10: 'Fall',\n",
    "    11: 'Fall',\n",
    "    12: 'Winter'\n",
    "}\n",
    "\n",
    "df_clean['season'] = df_clean['month'].map(season_mapping)\n",
    "\n",
    "# Dropping 'month' column because we do not need it anymore\n",
    "df_clean.drop(['month', 'date'], axis=1, inplace=True)"
   ]
  },
  {
   "cell_type": "markdown",
   "id": "3df6de54-36b5-4682-9776-6ede91ee5f2c",
   "metadata": {},
   "source": [
    "* We need to change our season column which is categorical to numerical."
   ]
  },
  {
   "cell_type": "code",
   "execution_count": 26,
   "id": "550888ea-1d9c-4653-aae0-ad44b8a56699",
   "metadata": {},
   "outputs": [],
   "source": [
    "##one hot encoding for season\n",
    "\n",
    "df2 = pd.get_dummies(df_clean, columns=['season'], dtype=int)\n",
    "df2 = df2.drop(['season_Spring'], axis=1)"
   ]
  },
  {
   "cell_type": "code",
   "execution_count": 27,
   "id": "67206ed7-323f-4689-8d3d-e7014248deed",
   "metadata": {},
   "outputs": [
    {
     "name": "stdout",
     "output_type": "stream",
     "text": [
      "<class 'pandas.core.frame.DataFrame'>\n",
      "Index: 21420 entries, 0 to 21596\n",
      "Data columns (total 22 columns):\n",
      " #   Column             Non-Null Count  Dtype  \n",
      "---  ------             --------------  -----  \n",
      " 0   id                 21420 non-null  int64  \n",
      " 1   price              21420 non-null  float64\n",
      " 2   bedrooms           21420 non-null  int64  \n",
      " 3   bathrooms          21420 non-null  float64\n",
      " 4   sqft_living        21420 non-null  int64  \n",
      " 5   sqft_lot           21420 non-null  int64  \n",
      " 6   floors             21420 non-null  float64\n",
      " 7   waterfront         21420 non-null  int64  \n",
      " 8   view               21420 non-null  object \n",
      " 9   condition          21420 non-null  object \n",
      " 10  grade              21420 non-null  object \n",
      " 11  sqft_above         21420 non-null  int64  \n",
      " 12  sqft_basement      21420 non-null  float64\n",
      " 13  yr_built           21420 non-null  int64  \n",
      " 14  sqft_living15      21420 non-null  int64  \n",
      " 15  sqft_lot15         21420 non-null  int64  \n",
      " 16  condition_encoded  21420 non-null  int32  \n",
      " 17  grade_encoded      21420 non-null  int32  \n",
      " 18  view_encoded       21420 non-null  int32  \n",
      " 19  season_Fall        21420 non-null  int32  \n",
      " 20  season_Summer      21420 non-null  int32  \n",
      " 21  season_Winter      21420 non-null  int32  \n",
      "dtypes: float64(4), int32(6), int64(9), object(3)\n",
      "memory usage: 3.3+ MB\n"
     ]
    }
   ],
   "source": [
    "df2.info()"
   ]
  },
  {
   "cell_type": "code",
   "execution_count": 28,
   "id": "b90f27c3-a423-45f0-9d02-09ee66684c0d",
   "metadata": {},
   "outputs": [
    {
     "data": {
      "text/html": [
       "<div>\n",
       "<style scoped>\n",
       "    .dataframe tbody tr th:only-of-type {\n",
       "        vertical-align: middle;\n",
       "    }\n",
       "\n",
       "    .dataframe tbody tr th {\n",
       "        vertical-align: top;\n",
       "    }\n",
       "\n",
       "    .dataframe thead th {\n",
       "        text-align: right;\n",
       "    }\n",
       "</style>\n",
       "<table border=\"1\" class=\"dataframe\">\n",
       "  <thead>\n",
       "    <tr style=\"text-align: right;\">\n",
       "      <th></th>\n",
       "      <th>price</th>\n",
       "      <th>bedrooms</th>\n",
       "      <th>bathrooms</th>\n",
       "      <th>sqft_living</th>\n",
       "      <th>sqft_lot</th>\n",
       "      <th>floors</th>\n",
       "      <th>waterfront</th>\n",
       "      <th>sqft_above</th>\n",
       "      <th>sqft_basement</th>\n",
       "      <th>yr_built</th>\n",
       "      <th>sqft_living15</th>\n",
       "      <th>sqft_lot15</th>\n",
       "      <th>condition_encoded</th>\n",
       "      <th>grade_encoded</th>\n",
       "      <th>view_encoded</th>\n",
       "      <th>season_Fall</th>\n",
       "      <th>season_Summer</th>\n",
       "      <th>season_Winter</th>\n",
       "    </tr>\n",
       "  </thead>\n",
       "  <tbody>\n",
       "    <tr>\n",
       "      <th>0</th>\n",
       "      <td>221900.0</td>\n",
       "      <td>3</td>\n",
       "      <td>1.00</td>\n",
       "      <td>1180</td>\n",
       "      <td>5650</td>\n",
       "      <td>1.0</td>\n",
       "      <td>0</td>\n",
       "      <td>1180</td>\n",
       "      <td>0.0</td>\n",
       "      <td>1955</td>\n",
       "      <td>1340</td>\n",
       "      <td>5650</td>\n",
       "      <td>0</td>\n",
       "      <td>8</td>\n",
       "      <td>4</td>\n",
       "      <td>1</td>\n",
       "      <td>0</td>\n",
       "      <td>0</td>\n",
       "    </tr>\n",
       "    <tr>\n",
       "      <th>1</th>\n",
       "      <td>538000.0</td>\n",
       "      <td>3</td>\n",
       "      <td>2.25</td>\n",
       "      <td>2570</td>\n",
       "      <td>7242</td>\n",
       "      <td>2.0</td>\n",
       "      <td>0</td>\n",
       "      <td>2170</td>\n",
       "      <td>400.0</td>\n",
       "      <td>1951</td>\n",
       "      <td>1690</td>\n",
       "      <td>7639</td>\n",
       "      <td>0</td>\n",
       "      <td>8</td>\n",
       "      <td>4</td>\n",
       "      <td>0</td>\n",
       "      <td>0</td>\n",
       "      <td>1</td>\n",
       "    </tr>\n",
       "    <tr>\n",
       "      <th>2</th>\n",
       "      <td>180000.0</td>\n",
       "      <td>2</td>\n",
       "      <td>1.00</td>\n",
       "      <td>770</td>\n",
       "      <td>10000</td>\n",
       "      <td>1.0</td>\n",
       "      <td>0</td>\n",
       "      <td>770</td>\n",
       "      <td>0.0</td>\n",
       "      <td>1933</td>\n",
       "      <td>2720</td>\n",
       "      <td>8062</td>\n",
       "      <td>0</td>\n",
       "      <td>7</td>\n",
       "      <td>4</td>\n",
       "      <td>0</td>\n",
       "      <td>0</td>\n",
       "      <td>1</td>\n",
       "    </tr>\n",
       "    <tr>\n",
       "      <th>3</th>\n",
       "      <td>604000.0</td>\n",
       "      <td>4</td>\n",
       "      <td>3.00</td>\n",
       "      <td>1960</td>\n",
       "      <td>5000</td>\n",
       "      <td>1.0</td>\n",
       "      <td>0</td>\n",
       "      <td>1050</td>\n",
       "      <td>910.0</td>\n",
       "      <td>1965</td>\n",
       "      <td>1360</td>\n",
       "      <td>5000</td>\n",
       "      <td>4</td>\n",
       "      <td>8</td>\n",
       "      <td>4</td>\n",
       "      <td>0</td>\n",
       "      <td>0</td>\n",
       "      <td>1</td>\n",
       "    </tr>\n",
       "    <tr>\n",
       "      <th>4</th>\n",
       "      <td>510000.0</td>\n",
       "      <td>3</td>\n",
       "      <td>2.00</td>\n",
       "      <td>1680</td>\n",
       "      <td>8080</td>\n",
       "      <td>1.0</td>\n",
       "      <td>0</td>\n",
       "      <td>1680</td>\n",
       "      <td>0.0</td>\n",
       "      <td>1987</td>\n",
       "      <td>1800</td>\n",
       "      <td>7503</td>\n",
       "      <td>0</td>\n",
       "      <td>9</td>\n",
       "      <td>4</td>\n",
       "      <td>0</td>\n",
       "      <td>0</td>\n",
       "      <td>1</td>\n",
       "    </tr>\n",
       "  </tbody>\n",
       "</table>\n",
       "</div>"
      ],
      "text/plain": [
       "      price  bedrooms  bathrooms  sqft_living  sqft_lot  floors  waterfront  \\\n",
       "0  221900.0         3       1.00         1180      5650     1.0           0   \n",
       "1  538000.0         3       2.25         2570      7242     2.0           0   \n",
       "2  180000.0         2       1.00          770     10000     1.0           0   \n",
       "3  604000.0         4       3.00         1960      5000     1.0           0   \n",
       "4  510000.0         3       2.00         1680      8080     1.0           0   \n",
       "\n",
       "   sqft_above  sqft_basement  yr_built  sqft_living15  sqft_lot15  \\\n",
       "0        1180            0.0      1955           1340        5650   \n",
       "1        2170          400.0      1951           1690        7639   \n",
       "2         770            0.0      1933           2720        8062   \n",
       "3        1050          910.0      1965           1360        5000   \n",
       "4        1680            0.0      1987           1800        7503   \n",
       "\n",
       "   condition_encoded  grade_encoded  view_encoded  season_Fall  season_Summer  \\\n",
       "0                  0              8             4            1              0   \n",
       "1                  0              8             4            0              0   \n",
       "2                  0              7             4            0              0   \n",
       "3                  4              8             4            0              0   \n",
       "4                  0              9             4            0              0   \n",
       "\n",
       "   season_Winter  \n",
       "0              0  \n",
       "1              1  \n",
       "2              1  \n",
       "3              1  \n",
       "4              1  "
      ]
     },
     "execution_count": 28,
     "metadata": {},
     "output_type": "execute_result"
    }
   ],
   "source": [
    "# Creating a new dataframe with numerical dtypes only\n",
    "\n",
    "# columns to exclude\n",
    "columns_to_exclude = ['view', 'condition', 'grade' , 'id']  \n",
    "\n",
    "# Creating a new dataset df3 excluding the specified columns\n",
    "df3 = df2.drop(columns=columns_to_exclude)\n",
    "\n",
    "# Display the first few rows of the new dataset df1\n",
    "df3.head()\n",
    "\n",
    "# df3 is our dataframe with numerical dtypes"
   ]
  },
  {
   "cell_type": "markdown",
   "id": "d211874a-0cce-46e5-9348-692d08f20c37",
   "metadata": {},
   "source": [
    "#### Handling outliers"
   ]
  },
  {
   "cell_type": "code",
   "execution_count": 29,
   "id": "8ed9d0b9-b8fc-4cd4-a6cf-c997e577e857",
   "metadata": {},
   "outputs": [
    {
     "name": "stdout",
     "output_type": "stream",
     "text": [
      "Column: bedrooms, Number of outliers: 518\n",
      "Column: bathrooms, Number of outliers: 558\n",
      "Column: sqft_living, Number of outliers: 568\n",
      "Column: sqft_lot, Number of outliers: 2406\n",
      "Column: floors, Number of outliers: 0\n",
      "Column: sqft_above, Number of outliers: 600\n",
      "Column: sqft_basement, Number of outliers: 556\n",
      "Column: yr_built, Number of outliers: 0\n",
      "Column: sqft_living15, Number of outliers: 503\n",
      "Column: sqft_lot15, Number of outliers: 2174\n"
     ]
    }
   ],
   "source": [
    "numeric_columns1 = df3[[ 'bedrooms', 'bathrooms', 'sqft_living', 'sqft_lot', 'floors', 'sqft_above', 'sqft_basement', 'yr_built',\n",
    "       'sqft_living15', 'sqft_lot15']]\n",
    "\n",
    "# Loop through each numeric column\n",
    "for column in numeric_columns1:\n",
    "    # Calculate IQR\n",
    "    q1 = df3[column].quantile(0.25)\n",
    "    q3 = df3[column].quantile(0.75)\n",
    "    iqr = q3 - q1\n",
    "\n",
    "    # Calculate outlier boundaries\n",
    "    lower_bound = q1 - 1.5 * iqr\n",
    "    upper_bound = q3 + 1.5 * iqr\n",
    "\n",
    "    # Count outliers\n",
    "    num_outliers = ((df3[column] < lower_bound) | (df3[column] > upper_bound)).sum()\n",
    "\n",
    "    # Print the result\n",
    "    print(f\"Column: {column}, Number of outliers: {num_outliers}\")"
   ]
  },
  {
   "cell_type": "code",
   "execution_count": 30,
   "id": "4c433ed6-41d6-4a26-a9f0-ab248fd1415d",
   "metadata": {},
   "outputs": [],
   "source": [
    "# Define a function to handle outliers using IQR method\n",
    "def handle_outliers_iqr(df3, column):\n",
    "    q1 = df3[column].quantile(0.25)\n",
    "    q3 = df3[column].quantile(0.75)\n",
    "    iqr = q3 - q1\n",
    "    lower_bound = q1 - 1.5 * iqr\n",
    "    upper_bound = q3 + 1.5 * iqr\n",
    "    df3[column] = df3[column].clip(lower=lower_bound, upper=upper_bound)\n",
    "\n",
    "# Columns with outliers\n",
    "outlier_columns = ['bedrooms', 'bathrooms', 'sqft_living', 'sqft_lot', 'floors', 'sqft_above', 'sqft_basement', 'yr_built',\n",
    "       'sqft_living15', 'sqft_lot15']\n",
    "\n",
    "# Apply the handle_outliers_iqr function to each column\n",
    "for col in outlier_columns:\n",
    "    handle_outliers_iqr(df3, col)\n"
   ]
  },
  {
   "cell_type": "markdown",
   "id": "10c45b21-1df8-4a59-882c-443f732b4a54",
   "metadata": {},
   "source": [
    "* Checking if our outliers have been handled."
   ]
  },
  {
   "cell_type": "code",
   "execution_count": 31,
   "id": "b1630fde-149c-42a7-bca3-536c7bacf7b1",
   "metadata": {},
   "outputs": [
    {
     "name": "stdout",
     "output_type": "stream",
     "text": [
      "Column: bedrooms, Number of outliers: 0\n",
      "Column: bathrooms, Number of outliers: 0\n",
      "Column: sqft_living, Number of outliers: 0\n",
      "Column: sqft_lot, Number of outliers: 0\n",
      "Column: floors, Number of outliers: 0\n",
      "Column: sqft_above, Number of outliers: 0\n",
      "Column: sqft_basement, Number of outliers: 0\n",
      "Column: yr_built, Number of outliers: 0\n",
      "Column: sqft_living15, Number of outliers: 0\n",
      "Column: sqft_lot15, Number of outliers: 0\n"
     ]
    }
   ],
   "source": [
    "numeric_columns1 = df3[[ 'bedrooms', 'bathrooms', 'sqft_living', 'sqft_lot', 'floors', 'sqft_above', 'sqft_basement', 'yr_built',\n",
    "       'sqft_living15', 'sqft_lot15']]\n",
    "\n",
    "# Loop through each numeric column\n",
    "for column in numeric_columns1:\n",
    "    # Calculate IQR\n",
    "    q1 = df3[column].quantile(0.25)\n",
    "    q3 = df3[column].quantile(0.75)\n",
    "    iqr = q3 - q1\n",
    "\n",
    "    # Calculate outlier boundaries\n",
    "    lower_bound = q1 - 1.5 * iqr\n",
    "    upper_bound = q3 + 1.5 * iqr\n",
    "\n",
    "    # Count outliers\n",
    "    num_outliers = ((df3[column] < lower_bound) | (df3[column] > upper_bound)).sum()\n",
    "\n",
    "    # Print the result\n",
    "    print(f\"Column: {column}, Number of outliers: {num_outliers}\")"
   ]
  },
  {
   "cell_type": "markdown",
   "id": "8e410d16-a914-4a4d-bdd5-4839ed08e074",
   "metadata": {},
   "source": [
    "## EXPLORATORY DATA ANALYSIS"
   ]
  },
  {
   "cell_type": "markdown",
   "id": "1557154e-b030-4b44-ad25-1c348ea1dc69",
   "metadata": {},
   "source": [
    "#### Correlation"
   ]
  },
  {
   "cell_type": "code",
   "execution_count": 32,
   "id": "70c31a0d-6c7f-44e8-9091-e20f4dec90d1",
   "metadata": {},
   "outputs": [
    {
     "name": "stdout",
     "output_type": "stream",
     "text": [
      "Correlation Coefficients with Price (Descending Order):\n",
      "price                1.000000\n",
      "sqft_living          0.646389\n",
      "sqft_living15        0.568750\n",
      "sqft_above           0.559166\n",
      "bathrooms            0.481395\n",
      "bedrooms             0.318878\n",
      "sqft_basement        0.285521\n",
      "waterfront           0.264898\n",
      "floors               0.256286\n",
      "sqft_lot             0.196494\n",
      "sqft_lot15           0.191368\n",
      "yr_built             0.052906\n",
      "condition_encoded    0.021223\n",
      "season_Summer        0.010247\n",
      "season_Fall         -0.013602\n",
      "season_Winter       -0.025421\n",
      "view_encoded        -0.304492\n",
      "grade_encoded       -0.367072\n",
      "Name: price, dtype: float64\n"
     ]
    }
   ],
   "source": [
    "# Calculate correlation matrix\n",
    "correlation_matrix = df3.corr()\n",
    "\n",
    "# Extract correlation coefficients with 'price'\n",
    "price_correlations = correlation_matrix['price']\n",
    "\n",
    "# Sort correlation coefficients in descending order\n",
    "price_correlations_sorted = price_correlations.sort_values(ascending=False)\n",
    "\n",
    "# Print correlation coefficients\n",
    "print(\"Correlation Coefficients with Price (Descending Order):\")\n",
    "print(price_correlations_sorted)\n"
   ]
  },
  {
   "cell_type": "markdown",
   "id": "c5b8780d-2999-4650-98b5-8970c247340f",
   "metadata": {},
   "source": [
    "* These correlation coefficients indicate the strength and direction of the relationship between each feature and the house price:\n",
    "* Strong Positive Correlation (values close to 1): Features like 'sqft_living', 'sqft_above', 'sqft_living15', and 'bathrooms' have a strong positive correlation with the house price. This suggests that as these feature values increase, the house price tends to increase as well.\n",
    "* Moderate Positive Correlation (values between 0.3 and 0.7): Features like 'sqft_basement', 'bedrooms', 'waterfront', and 'floors' show a moderate positive correlation with the house price. They influence the price but not as strongly as the features with higher correlation coefficients.\n",
    "* Weak Positive Correlation (values between 0 and 0.3): Features such as 'sqft_lot', 'sqft_lot15', 'yr_built', and 'condition_encoded' exhibit a weak positive correlation with the house price. Their impact on the price is minimal compared to other features.\n",
    "* Negative Correlation (values less than 0): Features like 'view_encoded' and 'grade_encoded' have negative correlations with the house price, indicating that as these feature values decrease, the house price tends to increase. However, it's important to note that these correlations are relatively weak compared to the positive correlations.\n",
    "* Additionally, the 'season' features ('season_Summer', 'season_Fall', 'season_Winter') show very weak correlations with the house price, suggesting they have little influence on pricing."
   ]
  },
  {
   "cell_type": "code",
   "execution_count": 33,
   "id": "fdb27cbc-9936-4c53-a128-1139b29c6abb",
   "metadata": {},
   "outputs": [
    {
     "data": {
      "image/png": "[encoded data removed]",
      "text/plain": [
       "<Figure size 1000x800 with 2 Axes>"
      ]
     },
     "metadata": {},
     "output_type": "display_data"
    }
   ],
   "source": [
    "corr = df3.corr().abs()\n",
    "fig, ax=plt.subplots(figsize=(10,8))\n",
    "fig.suptitle('Variable Correlations', fontsize=20, y=.98, fontname='DejaVu Sans')\n",
    "heatmap = sns.heatmap(corr, cmap='Reds', annot=True , fmt=\".2f\")"
   ]
  },
  {
   "cell_type": "markdown",
   "id": "3a4fa6d2-9b66-4a99-8336-51e9ae9d9ba3",
   "metadata": {},
   "source": [
    "## MODELING"
   ]
  },
  {
   "cell_type": "markdown",
   "id": "87d6745a-7445-44cc-a8b5-dfe77e402378",
   "metadata": {},
   "source": [
    "#### Baseline modeling"
   ]
  },
  {
   "cell_type": "markdown",
   "id": "adf54fc0-a350-4692-87c1-c953a4cfe322",
   "metadata": {},
   "source": [
    "* We are building a simple linear regression model between 'price' and 'sqft_living' to understand the relationship better."
   ]
  },
  {
   "cell_type": "code",
   "execution_count": 34,
   "id": "47430ebc-b204-4ff2-b390-c24997ca8ca7",
   "metadata": {},
   "outputs": [
    {
     "data": {
      "text/html": [
       "<table class=\"simpletable\">\n",
       "<caption>OLS Regression Results</caption>\n",
       "<tr>\n",
       "  <th>Dep. Variable:</th>          <td>price</td>      <th>  R-squared:         </th>  <td>   0.418</td>  \n",
       "</tr>\n",
       "<tr>\n",
       "  <th>Model:</th>                   <td>OLS</td>       <th>  Adj. R-squared:    </th>  <td>   0.418</td>  \n",
       "</tr>\n",
       "<tr>\n",
       "  <th>Method:</th>             <td>Least Squares</td>  <th>  F-statistic:       </th>  <td>1.537e+04</td> \n",
       "</tr>\n",
       "<tr>\n",
       "  <th>Date:</th>             <td>Wed, 10 Apr 2024</td> <th>  Prob (F-statistic):</th>   <td>  0.00</td>   \n",
       "</tr>\n",
       "<tr>\n",
       "  <th>Time:</th>                 <td>13:25:07</td>     <th>  Log-Likelihood:    </th> <td>-2.9911e+05</td>\n",
       "</tr>\n",
       "<tr>\n",
       "  <th>No. Observations:</th>      <td> 21420</td>      <th>  AIC:               </th>  <td>5.982e+05</td> \n",
       "</tr>\n",
       "<tr>\n",
       "  <th>Df Residuals:</th>          <td> 21418</td>      <th>  BIC:               </th>  <td>5.982e+05</td> \n",
       "</tr>\n",
       "<tr>\n",
       "  <th>Df Model:</th>              <td>     1</td>      <th>                     </th>      <td> </td>     \n",
       "</tr>\n",
       "<tr>\n",
       "  <th>Covariance Type:</th>      <td>nonrobust</td>    <th>                     </th>      <td> </td>     \n",
       "</tr>\n",
       "</table>\n",
       "<table class=\"simpletable\">\n",
       "<tr>\n",
       "       <td></td>          <th>coef</th>     <th>std err</th>      <th>t</th>      <th>P>|t|</th>  <th>[0.025</th>    <th>0.975]</th>  \n",
       "</tr>\n",
       "<tr>\n",
       "  <th>Intercept</th>   <td>-4.349e+04</td> <td> 5087.721</td> <td>   -8.548</td> <td> 0.000</td> <td>-5.35e+04</td> <td>-3.35e+04</td>\n",
       "</tr>\n",
       "<tr>\n",
       "  <th>sqft_living</th> <td>  283.4564</td> <td>    2.286</td> <td>  123.981</td> <td> 0.000</td> <td>  278.975</td> <td>  287.938</td>\n",
       "</tr>\n",
       "</table>\n",
       "<table class=\"simpletable\">\n",
       "<tr>\n",
       "  <th>Omnibus:</th>       <td>20682.954</td> <th>  Durbin-Watson:     </th>  <td>   1.986</td>  \n",
       "</tr>\n",
       "<tr>\n",
       "  <th>Prob(Omnibus):</th>  <td> 0.000</td>   <th>  Jarque-Bera (JB):  </th> <td>2707800.341</td>\n",
       "</tr>\n",
       "<tr>\n",
       "  <th>Skew:</th>           <td> 4.343</td>   <th>  Prob(JB):          </th>  <td>    0.00</td>  \n",
       "</tr>\n",
       "<tr>\n",
       "  <th>Kurtosis:</th>       <td>57.392</td>   <th>  Cond. No.          </th>  <td>5.90e+03</td>  \n",
       "</tr>\n",
       "</table><br/><br/>Notes:<br/>[1] Standard Errors assume that the covariance matrix of the errors is correctly specified.<br/>[2] The condition number is large, 5.9e+03. This might indicate that there are<br/>strong multicollinearity or other numerical problems."
      ],
      "text/latex": [
       "\\begin{center}\n",
       "\\begin{tabular}{lclc}\n",
       "\\toprule\n",
       "\\textbf{Dep. Variable:}    &      price       & \\textbf{  R-squared:         } &      0.418   \\\\\n",
       "\\textbf{Model:}            &       OLS        & \\textbf{  Adj. R-squared:    } &      0.418   \\\\\n",
       "\\textbf{Method:}           &  Least Squares   & \\textbf{  F-statistic:       } &  1.537e+04   \\\\\n",
       "\\textbf{Date:}             & Wed, 10 Apr 2024 & \\textbf{  Prob (F-statistic):} &      0.00    \\\\\n",
       "\\textbf{Time:}             &     13:25:07     & \\textbf{  Log-Likelihood:    } & -2.9911e+05  \\\\\n",
       "\\textbf{No. Observations:} &       21420      & \\textbf{  AIC:               } &  5.982e+05   \\\\\n",
       "\\textbf{Df Residuals:}     &       21418      & \\textbf{  BIC:               } &  5.982e+05   \\\\\n",
       "\\textbf{Df Model:}         &           1      & \\textbf{                     } &              \\\\\n",
       "\\textbf{Covariance Type:}  &    nonrobust     & \\textbf{                     } &              \\\\\n",
       "\\bottomrule\n",
       "\\end{tabular}\n",
       "\\begin{tabular}{lcccccc}\n",
       "                      & \\textbf{coef} & \\textbf{std err} & \\textbf{t} & \\textbf{P$> |$t$|$} & \\textbf{[0.025} & \\textbf{0.975]}  \\\\\n",
       "\\midrule\n",
       "\\textbf{Intercept}    &   -4.349e+04  &     5087.721     &    -8.548  &         0.000        &    -5.35e+04    &    -3.35e+04     \\\\\n",
       "\\textbf{sqft\\_living} &     283.4564  &        2.286     &   123.981  &         0.000        &      278.975    &      287.938     \\\\\n",
       "\\bottomrule\n",
       "\\end{tabular}\n",
       "\\begin{tabular}{lclc}\n",
       "\\textbf{Omnibus:}       & 20682.954 & \\textbf{  Durbin-Watson:     } &      1.986   \\\\\n",
       "\\textbf{Prob(Omnibus):} &    0.000  & \\textbf{  Jarque-Bera (JB):  } & 2707800.341  \\\\\n",
       "\\textbf{Skew:}          &    4.343  & \\textbf{  Prob(JB):          } &       0.00   \\\\\n",
       "\\textbf{Kurtosis:}      &   57.392  & \\textbf{  Cond. No.          } &   5.90e+03   \\\\\n",
       "\\bottomrule\n",
       "\\end{tabular}\n",
       "%\\caption{OLS Regression Results}\n",
       "\\end{center}\n",
       "\n",
       "Notes: \\newline\n",
       " [1] Standard Errors assume that the covariance matrix of the errors is correctly specified. \\newline\n",
       " [2] The condition number is large, 5.9e+03. This might indicate that there are \\newline\n",
       " strong multicollinearity or other numerical problems."
      ],
      "text/plain": [
       "<class 'statsmodels.iolib.summary.Summary'>\n",
       "\"\"\"\n",
       "                            OLS Regression Results                            \n",
       "==============================================================================\n",
       "Dep. Variable:                  price   R-squared:                       0.418\n",
       "Model:                            OLS   Adj. R-squared:                  0.418\n",
       "Method:                 Least Squares   F-statistic:                 1.537e+04\n",
       "Date:                Wed, 10 Apr 2024   Prob (F-statistic):               0.00\n",
       "Time:                        13:25:07   Log-Likelihood:            -2.9911e+05\n",
       "No. Observations:               21420   AIC:                         5.982e+05\n",
       "Df Residuals:                   21418   BIC:                         5.982e+05\n",
       "Df Model:                           1                                         \n",
       "Covariance Type:            nonrobust                                         \n",
       "===============================================================================\n",
       "                  coef    std err          t      P>|t|      [0.025      0.975]\n",
       "-------------------------------------------------------------------------------\n",
       "Intercept   -4.349e+04   5087.721     -8.548      0.000   -5.35e+04   -3.35e+04\n",
       "sqft_living   283.4564      2.286    123.981      0.000     278.975     287.938\n",
       "==============================================================================\n",
       "Omnibus:                    20682.954   Durbin-Watson:                   1.986\n",
       "Prob(Omnibus):                  0.000   Jarque-Bera (JB):          2707800.341\n",
       "Skew:                           4.343   Prob(JB):                         0.00\n",
       "Kurtosis:                      57.392   Cond. No.                     5.90e+03\n",
       "==============================================================================\n",
       "\n",
       "Notes:\n",
       "[1] Standard Errors assume that the covariance matrix of the errors is correctly specified.\n",
       "[2] The condition number is large, 5.9e+03. This might indicate that there are\n",
       "strong multicollinearity or other numerical problems.\n",
       "\"\"\""
      ]
     },
     "execution_count": 34,
     "metadata": {},
     "output_type": "execute_result"
    }
   ],
   "source": [
    "from statsmodels.formula.api import ols\n",
    "\n",
    "# Assuming 'data' is your DataFrame containing the necessary columns like 'price' and 'sqft_living'\n",
    "\n",
    "# Simple model for sqft_living\n",
    "# Formula y ~ x\n",
    "sqft_living_formula = 'price ~ sqft_living'\n",
    "sqft_living_model = ols(sqft_living_formula, df3).fit()\n",
    "\n",
    "# Finding the predicted values and the residuals for plotting\n",
    "predicted_values_sqft_living = sqft_living_model.fittedvalues\n",
    "\n",
    "sqft_living_model.summary()"
   ]
  },
  {
   "cell_type": "markdown",
   "id": "9563ea14-72c6-487c-8d4e-b41efb1e1f45",
   "metadata": {},
   "source": [
    "* R-squared measures the proportion of the variance in the dependent variable that is explained by the independent variable(s). In this case, R-squared is 0.418, indicating that approximately 41.8% of the variance in 'price' is explained by 'sqft_living'.\n",
    "  \n",
    "* Our model is statistically significant because our F-statistic p-value is less than 0.05.\n",
    "  \n",
    "* Coefficients:\n",
    "\n",
    "      * Intercept: The intercept term represents the value of the dependent variable when all independent variables are set to zero. In this case, the intercept is -4.349e+04.\n",
    "      * sqft_living: The coefficient for 'sqft_living' is 283.4564, indicating that for each unit increase in square footage of living space, the 'price' is expected to increase by $283.4564, holding all other variables constant.\n",
    "\n",
    "\n",
    "   \n",
    "Null Hypothesis:\n",
    "\n",
    "The null hypothesis for each coefficient is that it is equal to zero.\n",
    "\n",
    "In this context, for 'sqft_living', the null hypothesis is that the coefficient of 'sqft_living' is equal to zero, implying that there is no linear relationship between square footage of living space and price.\n",
    "\n",
    "Since the p-value for 'sqft_living' is close to zero, we reject the null hypothesis and conclude that there is a statistically significant linear relationship between 'sqft_living' and 'price'.\n"
   ]
  },
  {
   "cell_type": "code",
   "execution_count": 35,
   "id": "d55e00a7-7e38-4272-b085-527559b4ae97",
   "metadata": {},
   "outputs": [
    {
     "data": {
      "image/png": "[encoded data removed]",
      "text/plain": [
       "<Figure size 640x480 with 1 Axes>"
      ]
     },
     "metadata": {},
     "output_type": "display_data"
    }
   ],
   "source": [
    "# Assuming 'sqft_living_model' is the fitted regression model\n",
    "\n",
    "residuals_sqft_living = sqft_living_model.resid\n",
    "\n",
    "# Create a Q-Q plot of the residuals\n",
    "sm.qqplot(residuals_sqft_living, line='s')\n",
    "plt.title('Q-Q Plot of Residuals (sqft_living model)')\n",
    "plt.show()"
   ]
  },
  {
   "cell_type": "markdown",
   "id": "53d1fe54-7978-46d1-90af-bb96429e8b11",
   "metadata": {},
   "source": [
    "* Homoscedasticity - it means that the spread of the residuals should be uniform across the range of predicted values.\n",
    "  \n",
    "* As we can see, this model violates the homoscedasticity and normality assumptions for linear regression.\n",
    "  \n",
    "* Log-transformation can often help when these assumptions are not met. Let's update the values to their natural logs and re-check the assumptions."
   ]
  },
  {
   "cell_type": "code",
   "execution_count": 36,
   "id": "b3ff21d5-d678-4400-b52e-73548e3c8b65",
   "metadata": {},
   "outputs": [],
   "source": [
    "# Log transformation\n",
    "\n",
    "df3['price'] = np.log(df3['price'])\n",
    "df3['sqft_living'] = np.log(df3['sqft_living'])"
   ]
  },
  {
   "cell_type": "markdown",
   "id": "2e583965-7854-4ea7-b20c-1907ad3f7dca",
   "metadata": {},
   "source": [
    "* Q-Q plots are useful for visually assessing the distributional characteristics of variables and identifying departures from normality."
   ]
  },
  {
   "cell_type": "code",
   "execution_count": 37,
   "id": "0dc8e48c-8617-490c-9e2b-5db21930dcfa",
   "metadata": {},
   "outputs": [
    {
     "data": {
      "image/png": "[encoded data removed]",
      "text/plain": [
       "<Figure size 640x480 with 1 Axes>"
      ]
     },
     "metadata": {},
     "output_type": "display_data"
    },
    {
     "data": {
      "image/png": "[encoded data removed]",
      "text/plain": [
       "<Figure size 640x480 with 1 Axes>"
      ]
     },
     "metadata": {},
     "output_type": "display_data"
    }
   ],
   "source": [
    "# Create a Q-Q plot for 'price' \n",
    "\n",
    "sm.qqplot(df3['price'], line='s')\n",
    "plt.title('Q-Q Plot of Transformed Price')\n",
    "plt.show()\n",
    "\n",
    "# Create a Q-Q plot for the 'sqft_living' variable\n",
    "sm.qqplot(df3['sqft_living'], line='s')\n",
    "plt.title('Q-Q Plot of Transformed sqft_living')\n",
    "plt.show()"
   ]
  },
  {
   "cell_type": "markdown",
   "id": "8e6b0ecd-d42a-4aba-abef-64478111a065",
   "metadata": {},
   "source": [
    "* Deviations from the diagonal line suggest departures from normality, such as skewness or heavy tails."
   ]
  },
  {
   "cell_type": "markdown",
   "id": "47abde9a-4c95-48f1-a606-bff97599e3fe",
   "metadata": {},
   "source": [
    "* Now we will create a Simple linear regression for the column price and bathrooms."
   ]
  },
  {
   "cell_type": "code",
   "execution_count": 38,
   "id": "3f2c2981-f68c-42e3-9e2a-cce637805c1a",
   "metadata": {},
   "outputs": [
    {
     "data": {
      "text/html": [
       "<table class=\"simpletable\">\n",
       "<caption>OLS Regression Results</caption>\n",
       "<tr>\n",
       "  <th>Dep. Variable:</th>          <td>price</td>      <th>  R-squared:         </th> <td>   0.290</td> \n",
       "</tr>\n",
       "<tr>\n",
       "  <th>Model:</th>                   <td>OLS</td>       <th>  Adj. R-squared:    </th> <td>   0.290</td> \n",
       "</tr>\n",
       "<tr>\n",
       "  <th>Method:</th>             <td>Least Squares</td>  <th>  F-statistic:       </th> <td>   8756.</td> \n",
       "</tr>\n",
       "<tr>\n",
       "  <th>Date:</th>             <td>Wed, 10 Apr 2024</td> <th>  Prob (F-statistic):</th>  <td>  0.00</td>  \n",
       "</tr>\n",
       "<tr>\n",
       "  <th>Time:</th>                 <td>13:25:09</td>     <th>  Log-Likelihood:    </th> <td> -12990.</td> \n",
       "</tr>\n",
       "<tr>\n",
       "  <th>No. Observations:</th>      <td> 21420</td>      <th>  AIC:               </th> <td>2.598e+04</td>\n",
       "</tr>\n",
       "<tr>\n",
       "  <th>Df Residuals:</th>          <td> 21418</td>      <th>  BIC:               </th> <td>2.600e+04</td>\n",
       "</tr>\n",
       "<tr>\n",
       "  <th>Df Model:</th>              <td>     1</td>      <th>                     </th>     <td> </td>    \n",
       "</tr>\n",
       "<tr>\n",
       "  <th>Covariance Type:</th>      <td>nonrobust</td>    <th>                     </th>     <td> </td>    \n",
       "</tr>\n",
       "</table>\n",
       "<table class=\"simpletable\">\n",
       "<tr>\n",
       "      <td></td>         <th>coef</th>     <th>std err</th>      <th>t</th>      <th>P>|t|</th>  <th>[0.025</th>    <th>0.975]</th>  \n",
       "</tr>\n",
       "<tr>\n",
       "  <th>Intercept</th> <td>   12.2218</td> <td>    0.009</td> <td> 1307.916</td> <td> 0.000</td> <td>   12.204</td> <td>   12.240</td>\n",
       "</tr>\n",
       "<tr>\n",
       "  <th>bathrooms</th> <td>    0.3935</td> <td>    0.004</td> <td>   93.574</td> <td> 0.000</td> <td>    0.385</td> <td>    0.402</td>\n",
       "</tr>\n",
       "</table>\n",
       "<table class=\"simpletable\">\n",
       "<tr>\n",
       "  <th>Omnibus:</th>       <td>299.524</td> <th>  Durbin-Watson:     </th> <td>   1.968</td>\n",
       "</tr>\n",
       "<tr>\n",
       "  <th>Prob(Omnibus):</th> <td> 0.000</td>  <th>  Jarque-Bera (JB):  </th> <td> 313.033</td>\n",
       "</tr>\n",
       "<tr>\n",
       "  <th>Skew:</th>          <td> 0.287</td>  <th>  Prob(JB):          </th> <td>1.06e-68</td>\n",
       "</tr>\n",
       "<tr>\n",
       "  <th>Kurtosis:</th>      <td> 3.149</td>  <th>  Cond. No.          </th> <td>    8.11</td>\n",
       "</tr>\n",
       "</table><br/><br/>Notes:<br/>[1] Standard Errors assume that the covariance matrix of the errors is correctly specified."
      ],
      "text/latex": [
       "\\begin{center}\n",
       "\\begin{tabular}{lclc}\n",
       "\\toprule\n",
       "\\textbf{Dep. Variable:}    &      price       & \\textbf{  R-squared:         } &     0.290   \\\\\n",
       "\\textbf{Model:}            &       OLS        & \\textbf{  Adj. R-squared:    } &     0.290   \\\\\n",
       "\\textbf{Method:}           &  Least Squares   & \\textbf{  F-statistic:       } &     8756.   \\\\\n",
       "\\textbf{Date:}             & Wed, 10 Apr 2024 & \\textbf{  Prob (F-statistic):} &     0.00    \\\\\n",
       "\\textbf{Time:}             &     13:25:09     & \\textbf{  Log-Likelihood:    } &   -12990.   \\\\\n",
       "\\textbf{No. Observations:} &       21420      & \\textbf{  AIC:               } & 2.598e+04   \\\\\n",
       "\\textbf{Df Residuals:}     &       21418      & \\textbf{  BIC:               } & 2.600e+04   \\\\\n",
       "\\textbf{Df Model:}         &           1      & \\textbf{                     } &             \\\\\n",
       "\\textbf{Covariance Type:}  &    nonrobust     & \\textbf{                     } &             \\\\\n",
       "\\bottomrule\n",
       "\\end{tabular}\n",
       "\\begin{tabular}{lcccccc}\n",
       "                   & \\textbf{coef} & \\textbf{std err} & \\textbf{t} & \\textbf{P$> |$t$|$} & \\textbf{[0.025} & \\textbf{0.975]}  \\\\\n",
       "\\midrule\n",
       "\\textbf{Intercept} &      12.2218  &        0.009     &  1307.916  &         0.000        &       12.204    &       12.240     \\\\\n",
       "\\textbf{bathrooms} &       0.3935  &        0.004     &    93.574  &         0.000        &        0.385    &        0.402     \\\\\n",
       "\\bottomrule\n",
       "\\end{tabular}\n",
       "\\begin{tabular}{lclc}\n",
       "\\textbf{Omnibus:}       & 299.524 & \\textbf{  Durbin-Watson:     } &    1.968  \\\\\n",
       "\\textbf{Prob(Omnibus):} &   0.000 & \\textbf{  Jarque-Bera (JB):  } &  313.033  \\\\\n",
       "\\textbf{Skew:}          &   0.287 & \\textbf{  Prob(JB):          } & 1.06e-68  \\\\\n",
       "\\textbf{Kurtosis:}      &   3.149 & \\textbf{  Cond. No.          } &     8.11  \\\\\n",
       "\\bottomrule\n",
       "\\end{tabular}\n",
       "%\\caption{OLS Regression Results}\n",
       "\\end{center}\n",
       "\n",
       "Notes: \\newline\n",
       " [1] Standard Errors assume that the covariance matrix of the errors is correctly specified."
      ],
      "text/plain": [
       "<class 'statsmodels.iolib.summary.Summary'>\n",
       "\"\"\"\n",
       "                            OLS Regression Results                            \n",
       "==============================================================================\n",
       "Dep. Variable:                  price   R-squared:                       0.290\n",
       "Model:                            OLS   Adj. R-squared:                  0.290\n",
       "Method:                 Least Squares   F-statistic:                     8756.\n",
       "Date:                Wed, 10 Apr 2024   Prob (F-statistic):               0.00\n",
       "Time:                        13:25:09   Log-Likelihood:                -12990.\n",
       "No. Observations:               21420   AIC:                         2.598e+04\n",
       "Df Residuals:                   21418   BIC:                         2.600e+04\n",
       "Df Model:                           1                                         \n",
       "Covariance Type:            nonrobust                                         \n",
       "==============================================================================\n",
       "                 coef    std err          t      P>|t|      [0.025      0.975]\n",
       "------------------------------------------------------------------------------\n",
       "Intercept     12.2218      0.009   1307.916      0.000      12.204      12.240\n",
       "bathrooms      0.3935      0.004     93.574      0.000       0.385       0.402\n",
       "==============================================================================\n",
       "Omnibus:                      299.524   Durbin-Watson:                   1.968\n",
       "Prob(Omnibus):                  0.000   Jarque-Bera (JB):              313.033\n",
       "Skew:                           0.287   Prob(JB):                     1.06e-68\n",
       "Kurtosis:                       3.149   Cond. No.                         8.11\n",
       "==============================================================================\n",
       "\n",
       "Notes:\n",
       "[1] Standard Errors assume that the covariance matrix of the errors is correctly specified.\n",
       "\"\"\""
      ]
     },
     "execution_count": 38,
     "metadata": {},
     "output_type": "execute_result"
    }
   ],
   "source": [
    "from statsmodels.formula.api import ols\n",
    "\n",
    "# Simple model for bathrooms\n",
    "# Formula y ~ x\n",
    "bathrooms_formula = 'price ~ bathrooms'\n",
    "bathrooms_model = ols(bathrooms_formula, df3).fit()\n",
    "\n",
    "# Finding the predicted values and the residuals for plotting\n",
    "predicted_values_bathrooms = bathrooms_model.fittedvalues\n",
    "\n",
    "bathrooms_model.summary()"
   ]
  },
  {
   "cell_type": "markdown",
   "id": "2676092c-7578-4d9d-8367-f321eb5657b0",
   "metadata": {},
   "source": [
    "* R-squared is 0.232, indicating that approximately 23.2% of the variance in 'price' is explained by 'bathrooms'.\n",
    "* The associated probability (Prob (F-statistic)) is close to 0, suggesting that the regression model is statistically significant.\n",
    "* Coefficients:\n",
    "\n",
    "       * Intercept: The intercept term represents the value of the dependent variable when all independent variables are set to zero. In this case, the intercept is 12.2218.\n",
    "       * Bathrooms: The coefficient for 'bathrooms' is 0.3779, indicating that for each additional bathroom, the 'price' is expected to increase by 0.3935 units, holding all other variables constant.\n",
    "\n",
    "Null Hypothesis:\n",
    "\n",
    "The null hypothesis for each coefficient is that it is equal to zero.\n",
    "In this context, for 'bathrooms', the null hypothesis is that the coefficient of 'bathrooms' is equal to zero, implying that there is no linear relationship between the number of bathrooms and price.\n",
    "Since the p-value for 'bathrooms' is close to zero, we reject the null hypothesis and conclude that there is a statistically significant linear relationship between the number of bathrooms and price."
   ]
  },
  {
   "cell_type": "code",
   "execution_count": 39,
   "id": "fc834026-138a-4265-9a99-109f40bf31a9",
   "metadata": {},
   "outputs": [
    {
     "data": {
      "image/png": "[encoded data removed]",
      "text/plain": [
       "<Figure size 640x480 with 1 Axes>"
      ]
     },
     "metadata": {},
     "output_type": "display_data"
    }
   ],
   "source": [
    "# Assuming 'sqft_living_model' is the fitted regression model\n",
    "\n",
    "residuals_bathrooms = bathrooms_model.resid\n",
    "\n",
    "# Create a Q-Q plot of the residuals\n",
    "sm.qqplot(residuals_bathrooms, line='s')\n",
    "plt.title('Q-Q Plot of Residuals (bathrooms)')\n",
    "plt.show()"
   ]
  },
  {
   "cell_type": "markdown",
   "id": "567b3629-bd4f-4105-a282-2e215afb3213",
   "metadata": {},
   "source": [
    "* This model does not violate the homoscedasticity and normality assumptions for linear regression."
   ]
  },
  {
   "cell_type": "markdown",
   "id": "6009a484-1dd3-4db6-81b8-f52332549c99",
   "metadata": {},
   "source": [
    "#### Multiple linear regression model"
   ]
  },
  {
   "cell_type": "code",
   "execution_count": 40,
   "id": "6556a376-f259-4e80-ae68-a25fb9f07086",
   "metadata": {},
   "outputs": [],
   "source": [
    "# Independent variables\n",
    "X = df3.drop(\"price\" ,axis=1) \n",
    "            \n",
    "\n",
    "# Dependent variable\n",
    "y = df3[\"price\"]"
   ]
  },
  {
   "cell_type": "code",
   "execution_count": 41,
   "id": "2277a5a5-a11a-42d8-b350-2fb4a34d083c",
   "metadata": {},
   "outputs": [
    {
     "name": "stdout",
     "output_type": "stream",
     "text": [
      "                            OLS Regression Results                            \n",
      "==============================================================================\n",
      "Dep. Variable:                  price   R-squared:                       0.594\n",
      "Model:                            OLS   Adj. R-squared:                  0.593\n",
      "Method:                 Least Squares   F-statistic:                     1838.\n",
      "Date:                Wed, 10 Apr 2024   Prob (F-statistic):               0.00\n",
      "Time:                        13:25:10   Log-Likelihood:                -7020.1\n",
      "No. Observations:               21420   AIC:                         1.408e+04\n",
      "Df Residuals:                   21402   BIC:                         1.422e+04\n",
      "Df Model:                          17                                         \n",
      "Covariance Type:            nonrobust                                         \n",
      "=====================================================================================\n",
      "                        coef    std err          t      P>|t|      [0.025      0.975]\n",
      "-------------------------------------------------------------------------------------\n",
      "const                20.0988      0.246     81.706      0.000      19.617      20.581\n",
      "bedrooms             -0.0703      0.004    -19.378      0.000      -0.077      -0.063\n",
      "bathrooms             0.1100      0.006     18.914      0.000       0.099       0.121\n",
      "sqft_living           0.1982      0.023      8.693      0.000       0.153       0.243\n",
      "sqft_lot          -5.567e-06   1.12e-06     -4.977      0.000   -7.76e-06   -3.37e-06\n",
      "floors                0.1136      0.006     17.759      0.000       0.101       0.126\n",
      "waterfront            0.5127      0.029     17.733      0.000       0.456       0.569\n",
      "sqft_above            0.0002   1.17e-05     17.437      0.000       0.000       0.000\n",
      "sqft_basement         0.0002   1.23e-05     18.711      0.000       0.000       0.000\n",
      "yr_built             -0.0047      0.000    -43.846      0.000      -0.005      -0.004\n",
      "sqft_living15         0.0002   5.88e-06     38.685      0.000       0.000       0.000\n",
      "sqft_lot15        -6.982e-06    1.3e-06     -5.353      0.000   -9.54e-06   -4.43e-06\n",
      "condition_encoded     0.0178      0.002      8.809      0.000       0.014       0.022\n",
      "grade_encoded        -0.0116      0.001    -10.293      0.000      -0.014      -0.009\n",
      "view_encoded         -0.0402      0.003    -14.976      0.000      -0.045      -0.035\n",
      "season_Fall          -0.0506      0.006     -8.001      0.000      -0.063      -0.038\n",
      "season_Summer        -0.0374      0.006     -6.277      0.000      -0.049      -0.026\n",
      "season_Winter        -0.0558      0.007     -8.003      0.000      -0.070      -0.042\n",
      "==============================================================================\n",
      "Omnibus:                       28.276   Durbin-Watson:                   1.983\n",
      "Prob(Omnibus):                  0.000   Jarque-Bera (JB):               31.066\n",
      "Skew:                          -0.051   Prob(JB):                     1.79e-07\n",
      "Kurtosis:                       3.157   Cond. No.                     1.50e+06\n",
      "==============================================================================\n",
      "\n",
      "Notes:\n",
      "[1] Standard Errors assume that the covariance matrix of the errors is correctly specified.\n",
      "[2] The condition number is large, 1.5e+06. This might indicate that there are\n",
      "strong multicollinearity or other numerical problems.\n"
     ]
    }
   ],
   "source": [
    "#creating the model/#OrdinaryLeastSquares\n",
    "import statsmodels.api as sm\n",
    "\n",
    "# # Add a constant to the independent variables\n",
    "X_with_const = sm.add_constant(X)\n",
    "\n",
    "\n",
    "# Fit the OLS model\n",
    "model = sm.OLS(y, X_with_const)\n",
    "result = model.fit()\n",
    "\n",
    "# Print the summary of the regression results\n",
    "print(result.summary())\n"
   ]
  },
  {
   "cell_type": "markdown",
   "id": "d63cee6d-764e-4464-af09-d5b57efeb1c4",
   "metadata": {},
   "source": [
    "* The warning on standard errors suggests that there might be issues with the model's assumptions or with the data itself, which could affect the accuracy of the standard errors and subsequently the validity of the inference drawn from the model.\n",
    "* We will check for multicollinearity and adress it accordingly"
   ]
  },
  {
   "cell_type": "markdown",
   "id": "b1adb5fb-b456-4343-834c-84c8b414b9fa",
   "metadata": {},
   "source": [
    "* The R-squared value of 0.594 indicates that approximately 59.4% of the variance in 'price' is explained by the independent variables included in the model.\n",
    "* Significance of Coefficients:\n",
    "Most of the coefficients have p-values less than 0.05, indicating that they are statistically significant at the 5% significance level).e."
   ]
  },
  {
   "cell_type": "markdown",
   "id": "88fff2f4-685b-410f-bbde-f43bc9235cc7",
   "metadata": {},
   "source": [
    "**Violation of assumptions**"
   ]
  },
  {
   "cell_type": "markdown",
   "id": "b5220f41-440a-4967-a88b-023298918bbe",
   "metadata": {},
   "source": [
    "* Linearity"
   ]
  },
  {
   "cell_type": "code",
   "execution_count": 42,
   "id": "45fcdc8c-4172-4f71-863e-42a2e744f5d5",
   "metadata": {},
   "outputs": [
    {
     "name": "stdout",
     "output_type": "stream",
     "text": [
      "Rainbow Test Statistic: 0.9888132810806638\n",
      "Rainbow Test p-value: 0.7196740919618699\n"
     ]
    }
   ],
   "source": [
    "import numpy as np\n",
    "import statsmodels.api as sm\n",
    "from statsmodels.stats.diagnostic import linear_rainbow\n",
    "\n",
    "# Assuming X is your independent variable matrix and y is your dependent variable vector\n",
    "# Fit your regression model\n",
    "model = sm.OLS(y, X).fit()\n",
    "\n",
    "# Perform the Rainbow test\n",
    "rainbow_statistic, rainbow_p_value = linear_rainbow(model)\n",
    "print(\"Rainbow Test Statistic:\", rainbow_statistic)\n",
    "print(\"Rainbow Test p-value:\", rainbow_p_value)\n"
   ]
  },
  {
   "cell_type": "markdown",
   "id": "45ff1153-c8cf-4352-b919-48dc946a859c",
   "metadata": {},
   "source": [
    "* Rainbow Test Statistic: The test statistic measures the deviation from linearity in the regression model. A value close to 1 suggests that the model's fit to the data is linear.\n",
    "   * \n",
    "Rainbow Test p-value: This p-value assesses the significance of the test statistic. A p-value greater than the significance level (commonly 0.05) indicates that there is no significant departure from linearity in the model. In this case, the p-value being high (71973) suggests that there is no evidence to reject the assumption of linearity in the regression modes."
   ]
  },
  {
   "cell_type": "markdown",
   "id": "81e10809-e288-4d1d-a699-5e62d2476cc6",
   "metadata": {},
   "source": [
    "#### Independence"
   ]
  },
  {
   "cell_type": "markdown",
   "id": "75e9b178-bdb1-4aba-8292-ab949fd4f628",
   "metadata": {},
   "source": [
    "* The Durbin-Watson statistic is a measure used to detect the presence of autocorrelation in the residuals of a regression model.\n",
    "  \n",
    "* Autocorrelation occurs when the residuals of the model exhibit correlation with each other, indicating that the assumption of independence of errors is violated.\n",
    "  \n",
    "* Our Durbin-Watson value is 1.983 indicating no autocorrelation meaning that the errors are independent of each other. The assumption of independence of errors is satisfied."
   ]
  },
  {
   "cell_type": "code",
   "execution_count": 43,
   "id": "68fd5a93-32f7-4bb2-95da-699ae70324c4",
   "metadata": {},
   "outputs": [
    {
     "name": "stdout",
     "output_type": "stream",
     "text": [
      "R-squared (R2): 0.5935141246373032\n",
      "Mean Squared Error (MSE): 0.11286503415620487\n",
      "Root Mean Squared Error (RMSE): 0.3359539167150829\n"
     ]
    }
   ],
   "source": [
    "# Define the coefficients and predictions\n",
    "coefficients = result.params\n",
    "y_pred = result.predict()\n",
    "\n",
    "# Calculate R-squared\n",
    "r_squared = result.rsquared\n",
    "\n",
    "# Calculate Mean Squared Error (MSE)\n",
    "mse = result.mse_resid\n",
    "\n",
    "# Calculate Root Mean Squared Error (RMSE)\n",
    "rmse = np.sqrt(mse)\n",
    "\n",
    "# Print the results\n",
    "print(\"R-squared (R2):\", r_squared)\n",
    "print(\"Mean Squared Error (MSE):\", mse)\n",
    "print(\"Root Mean Squared Error (RMSE):\", rmse)\n"
   ]
  },
  {
   "cell_type": "markdown",
   "id": "e08ff7f7-eebe-4345-ac6b-887ea9c46c48",
   "metadata": {},
   "source": [
    "* R-squared of 0.593 suggests that approximately 59% of the variance in the dependent variable is explained by the independent variables in the model.\n",
    "  \n",
    "* MSE and RMSE of 0.1128 and 0.336, respectively, indicate the average squared difference and average magnitude of errors between actual and predicted values. Lower values of MSE and RMSE are generally considered better. In this case, RMSE is approximately 0.336, indicating the average error in predicting the dependent variable is around 0.336 units.\n",
    "  \n",
    "* Overall, an R-squared of 0.593 and low values of MSE and RMSE suggest that the model has a decent level of predictive power and performs reasonably well in explaining the variability in the dependent variable."
   ]
  },
  {
   "cell_type": "markdown",
   "id": "15eba327-d2a0-4641-876e-f6262a2e8fd1",
   "metadata": {},
   "source": [
    "#### Checking distribution of our target y"
   ]
  },
  {
   "cell_type": "code",
   "execution_count": 44,
   "id": "4c9050ab-9aa3-497f-ac98-3a80eb3c8d83",
   "metadata": {},
   "outputs": [
    {
     "data": {
      "image/png": "[encoded data removed]",
      "text/plain": [
       "<Figure size 640x480 with 1 Axes>"
      ]
     },
     "metadata": {},
     "output_type": "display_data"
    }
   ],
   "source": [
    "#checking distribution of our target y\n",
    "y.hist();"
   ]
  },
  {
   "cell_type": "markdown",
   "id": "0b97d86d-d49d-4500-9e45-3a3c9639f585",
   "metadata": {},
   "source": [
    "* Our data is normally distributed."
   ]
  },
  {
   "cell_type": "code",
   "execution_count": 45,
   "id": "96845bbf-8461-46ec-abd4-1e4a9a9f29b9",
   "metadata": {},
   "outputs": [
    {
     "name": "stderr",
     "output_type": "stream",
     "text": [
      "C:\\Users\\ADMIN\\anaconda3\\Lib\\site-packages\\numpy\\core\\fromnumeric.py:3643: FutureWarning: The behavior of DataFrame.std with axis=None is deprecated, in a future version this will reduce over both axes and return a scalar. To retain the old behavior, pass axis=0 (or do not pass axis)\n",
      "  return std(axis=axis, dtype=dtype, out=out, ddof=ddof, **kwargs)\n"
     ]
    },
    {
     "data": {
      "text/plain": [
       "bedrooms                0.852045\n",
       "bathrooms               0.721022\n",
       "sqft_living             0.414009\n",
       "sqft_lot             5052.019785\n",
       "floors                  0.540068\n",
       "waterfront              0.082278\n",
       "sqft_above            765.141767\n",
       "sqft_basement         413.252573\n",
       "yr_built               29.386455\n",
       "sqft_living15         650.717716\n",
       "sqft_lot15           4368.277039\n",
       "condition_encoded       1.266860\n",
       "grade_encoded           2.309329\n",
       "view_encoded            0.924353\n",
       "season_Fall             0.424212\n",
       "season_Summer           0.456171\n",
       "season_Winter           0.375329\n",
       "dtype: float64"
      ]
     },
     "execution_count": 45,
     "metadata": {},
     "output_type": "execute_result"
    }
   ],
   "source": [
    "#checking std deviation of the original predictors\n",
    "np.std(X)"
   ]
  },
  {
   "cell_type": "code",
   "execution_count": 46,
   "id": "11960a01-32f4-4cdb-ad2a-f4420ec607a7",
   "metadata": {},
   "outputs": [],
   "source": [
    "# standand scaling(subtract the mean of the variable/the std deviation of the variable)\n",
    "\n",
    "#including all the columns\n",
    "X_scaled = (X-np.mean(X))/np.std(X)"
   ]
  },
  {
   "cell_type": "code",
   "execution_count": 47,
   "id": "54a8c6d7-f7c3-4389-a7c7-3543dec28019",
   "metadata": {},
   "outputs": [
    {
     "data": {
      "text/html": [
       "<table class=\"simpletable\">\n",
       "<caption>OLS Regression Results</caption>\n",
       "<tr>\n",
       "  <th>Dep. Variable:</th>          <td>price</td>      <th>  R-squared:         </th> <td>   0.594</td> \n",
       "</tr>\n",
       "<tr>\n",
       "  <th>Model:</th>                   <td>OLS</td>       <th>  Adj. R-squared:    </th> <td>   0.593</td> \n",
       "</tr>\n",
       "<tr>\n",
       "  <th>Method:</th>             <td>Least Squares</td>  <th>  F-statistic:       </th> <td>   1838.</td> \n",
       "</tr>\n",
       "<tr>\n",
       "  <th>Date:</th>             <td>Wed, 10 Apr 2024</td> <th>  Prob (F-statistic):</th>  <td>  0.00</td>  \n",
       "</tr>\n",
       "<tr>\n",
       "  <th>Time:</th>                 <td>13:25:11</td>     <th>  Log-Likelihood:    </th> <td> -7020.1</td> \n",
       "</tr>\n",
       "<tr>\n",
       "  <th>No. Observations:</th>      <td> 21420</td>      <th>  AIC:               </th> <td>1.408e+04</td>\n",
       "</tr>\n",
       "<tr>\n",
       "  <th>Df Residuals:</th>          <td> 21402</td>      <th>  BIC:               </th> <td>1.422e+04</td>\n",
       "</tr>\n",
       "<tr>\n",
       "  <th>Df Model:</th>              <td>    17</td>      <th>                     </th>     <td> </td>    \n",
       "</tr>\n",
       "<tr>\n",
       "  <th>Covariance Type:</th>      <td>nonrobust</td>    <th>                     </th>     <td> </td>    \n",
       "</tr>\n",
       "</table>\n",
       "<table class=\"simpletable\">\n",
       "<tr>\n",
       "          <td></td>             <th>coef</th>     <th>std err</th>      <th>t</th>      <th>P>|t|</th>  <th>[0.025</th>    <th>0.975]</th>  \n",
       "</tr>\n",
       "<tr>\n",
       "  <th>const</th>             <td>  944.3980</td> <td>   54.269</td> <td>   17.402</td> <td> 0.000</td> <td>  838.026</td> <td> 1050.770</td>\n",
       "</tr>\n",
       "<tr>\n",
       "  <th>bedrooms</th>          <td>   -0.0599</td> <td>    0.003</td> <td>  -19.378</td> <td> 0.000</td> <td>   -0.066</td> <td>   -0.054</td>\n",
       "</tr>\n",
       "<tr>\n",
       "  <th>bathrooms</th>         <td>    0.0793</td> <td>    0.004</td> <td>   18.914</td> <td> 0.000</td> <td>    0.071</td> <td>    0.088</td>\n",
       "</tr>\n",
       "<tr>\n",
       "  <th>sqft_living</th>       <td>    0.0820</td> <td>    0.009</td> <td>    8.693</td> <td> 0.000</td> <td>    0.064</td> <td>    0.101</td>\n",
       "</tr>\n",
       "<tr>\n",
       "  <th>sqft_lot</th>          <td>   -0.0281</td> <td>    0.006</td> <td>   -4.977</td> <td> 0.000</td> <td>   -0.039</td> <td>   -0.017</td>\n",
       "</tr>\n",
       "<tr>\n",
       "  <th>floors</th>            <td>    0.0613</td> <td>    0.003</td> <td>   17.759</td> <td> 0.000</td> <td>    0.055</td> <td>    0.068</td>\n",
       "</tr>\n",
       "<tr>\n",
       "  <th>waterfront</th>        <td>    0.0422</td> <td>    0.002</td> <td>   17.733</td> <td> 0.000</td> <td>    0.038</td> <td>    0.047</td>\n",
       "</tr>\n",
       "<tr>\n",
       "  <th>sqft_above</th>        <td>    0.1566</td> <td>    0.009</td> <td>   17.437</td> <td> 0.000</td> <td>    0.139</td> <td>    0.174</td>\n",
       "</tr>\n",
       "<tr>\n",
       "  <th>sqft_basement</th>     <td>    0.0951</td> <td>    0.005</td> <td>   18.711</td> <td> 0.000</td> <td>    0.085</td> <td>    0.105</td>\n",
       "</tr>\n",
       "<tr>\n",
       "  <th>yr_built</th>          <td>   -0.1375</td> <td>    0.003</td> <td>  -43.846</td> <td> 0.000</td> <td>   -0.144</td> <td>   -0.131</td>\n",
       "</tr>\n",
       "<tr>\n",
       "  <th>sqft_living15</th>     <td>    0.1479</td> <td>    0.004</td> <td>   38.685</td> <td> 0.000</td> <td>    0.140</td> <td>    0.155</td>\n",
       "</tr>\n",
       "<tr>\n",
       "  <th>sqft_lot15</th>        <td>   -0.0305</td> <td>    0.006</td> <td>   -5.353</td> <td> 0.000</td> <td>   -0.042</td> <td>   -0.019</td>\n",
       "</tr>\n",
       "<tr>\n",
       "  <th>condition_encoded</th> <td>    0.0226</td> <td>    0.003</td> <td>    8.809</td> <td> 0.000</td> <td>    0.018</td> <td>    0.028</td>\n",
       "</tr>\n",
       "<tr>\n",
       "  <th>grade_encoded</th>     <td>   -0.0268</td> <td>    0.003</td> <td>  -10.293</td> <td> 0.000</td> <td>   -0.032</td> <td>   -0.022</td>\n",
       "</tr>\n",
       "<tr>\n",
       "  <th>view_encoded</th>      <td>   -0.0371</td> <td>    0.002</td> <td>  -14.976</td> <td> 0.000</td> <td>   -0.042</td> <td>   -0.032</td>\n",
       "</tr>\n",
       "<tr>\n",
       "  <th>season_Fall</th>       <td>   -0.0215</td> <td>    0.003</td> <td>   -8.001</td> <td> 0.000</td> <td>   -0.027</td> <td>   -0.016</td>\n",
       "</tr>\n",
       "<tr>\n",
       "  <th>season_Summer</th>     <td>   -0.0171</td> <td>    0.003</td> <td>   -6.277</td> <td> 0.000</td> <td>   -0.022</td> <td>   -0.012</td>\n",
       "</tr>\n",
       "<tr>\n",
       "  <th>season_Winter</th>     <td>   -0.0210</td> <td>    0.003</td> <td>   -8.003</td> <td> 0.000</td> <td>   -0.026</td> <td>   -0.016</td>\n",
       "</tr>\n",
       "</table>\n",
       "<table class=\"simpletable\">\n",
       "<tr>\n",
       "  <th>Omnibus:</th>       <td>28.276</td> <th>  Durbin-Watson:     </th> <td>   1.983</td>\n",
       "</tr>\n",
       "<tr>\n",
       "  <th>Prob(Omnibus):</th> <td> 0.000</td> <th>  Jarque-Bera (JB):  </th> <td>  31.066</td>\n",
       "</tr>\n",
       "<tr>\n",
       "  <th>Skew:</th>          <td>-0.051</td> <th>  Prob(JB):          </th> <td>1.79e-07</td>\n",
       "</tr>\n",
       "<tr>\n",
       "  <th>Kurtosis:</th>      <td> 3.157</td> <th>  Cond. No.          </th> <td>4.29e+08</td>\n",
       "</tr>\n",
       "</table><br/><br/>Notes:<br/>[1] Standard Errors assume that the covariance matrix of the errors is correctly specified.<br/>[2] The condition number is large, 4.29e+08. This might indicate that there are<br/>strong multicollinearity or other numerical problems."
      ],
      "text/latex": [
       "\\begin{center}\n",
       "\\begin{tabular}{lclc}\n",
       "\\toprule\n",
       "\\textbf{Dep. Variable:}     &      price       & \\textbf{  R-squared:         } &     0.594   \\\\\n",
       "\\textbf{Model:}             &       OLS        & \\textbf{  Adj. R-squared:    } &     0.593   \\\\\n",
       "\\textbf{Method:}            &  Least Squares   & \\textbf{  F-statistic:       } &     1838.   \\\\\n",
       "\\textbf{Date:}              & Wed, 10 Apr 2024 & \\textbf{  Prob (F-statistic):} &     0.00    \\\\\n",
       "\\textbf{Time:}              &     13:25:11     & \\textbf{  Log-Likelihood:    } &   -7020.1   \\\\\n",
       "\\textbf{No. Observations:}  &       21420      & \\textbf{  AIC:               } & 1.408e+04   \\\\\n",
       "\\textbf{Df Residuals:}      &       21402      & \\textbf{  BIC:               } & 1.422e+04   \\\\\n",
       "\\textbf{Df Model:}          &          17      & \\textbf{                     } &             \\\\\n",
       "\\textbf{Covariance Type:}   &    nonrobust     & \\textbf{                     } &             \\\\\n",
       "\\bottomrule\n",
       "\\end{tabular}\n",
       "\\begin{tabular}{lcccccc}\n",
       "                            & \\textbf{coef} & \\textbf{std err} & \\textbf{t} & \\textbf{P$> |$t$|$} & \\textbf{[0.025} & \\textbf{0.975]}  \\\\\n",
       "\\midrule\n",
       "\\textbf{const}              &     944.3980  &       54.269     &    17.402  &         0.000        &      838.026    &     1050.770     \\\\\n",
       "\\textbf{bedrooms}           &      -0.0599  &        0.003     &   -19.378  &         0.000        &       -0.066    &       -0.054     \\\\\n",
       "\\textbf{bathrooms}          &       0.0793  &        0.004     &    18.914  &         0.000        &        0.071    &        0.088     \\\\\n",
       "\\textbf{sqft\\_living}       &       0.0820  &        0.009     &     8.693  &         0.000        &        0.064    &        0.101     \\\\\n",
       "\\textbf{sqft\\_lot}          &      -0.0281  &        0.006     &    -4.977  &         0.000        &       -0.039    &       -0.017     \\\\\n",
       "\\textbf{floors}             &       0.0613  &        0.003     &    17.759  &         0.000        &        0.055    &        0.068     \\\\\n",
       "\\textbf{waterfront}         &       0.0422  &        0.002     &    17.733  &         0.000        &        0.038    &        0.047     \\\\\n",
       "\\textbf{sqft\\_above}        &       0.1566  &        0.009     &    17.437  &         0.000        &        0.139    &        0.174     \\\\\n",
       "\\textbf{sqft\\_basement}     &       0.0951  &        0.005     &    18.711  &         0.000        &        0.085    &        0.105     \\\\\n",
       "\\textbf{yr\\_built}          &      -0.1375  &        0.003     &   -43.846  &         0.000        &       -0.144    &       -0.131     \\\\\n",
       "\\textbf{sqft\\_living15}     &       0.1479  &        0.004     &    38.685  &         0.000        &        0.140    &        0.155     \\\\\n",
       "\\textbf{sqft\\_lot15}        &      -0.0305  &        0.006     &    -5.353  &         0.000        &       -0.042    &       -0.019     \\\\\n",
       "\\textbf{condition\\_encoded} &       0.0226  &        0.003     &     8.809  &         0.000        &        0.018    &        0.028     \\\\\n",
       "\\textbf{grade\\_encoded}     &      -0.0268  &        0.003     &   -10.293  &         0.000        &       -0.032    &       -0.022     \\\\\n",
       "\\textbf{view\\_encoded}      &      -0.0371  &        0.002     &   -14.976  &         0.000        &       -0.042    &       -0.032     \\\\\n",
       "\\textbf{season\\_Fall}       &      -0.0215  &        0.003     &    -8.001  &         0.000        &       -0.027    &       -0.016     \\\\\n",
       "\\textbf{season\\_Summer}     &      -0.0171  &        0.003     &    -6.277  &         0.000        &       -0.022    &       -0.012     \\\\\n",
       "\\textbf{season\\_Winter}     &      -0.0210  &        0.003     &    -8.003  &         0.000        &       -0.026    &       -0.016     \\\\\n",
       "\\bottomrule\n",
       "\\end{tabular}\n",
       "\\begin{tabular}{lclc}\n",
       "\\textbf{Omnibus:}       & 28.276 & \\textbf{  Durbin-Watson:     } &    1.983  \\\\\n",
       "\\textbf{Prob(Omnibus):} &  0.000 & \\textbf{  Jarque-Bera (JB):  } &   31.066  \\\\\n",
       "\\textbf{Skew:}          & -0.051 & \\textbf{  Prob(JB):          } & 1.79e-07  \\\\\n",
       "\\textbf{Kurtosis:}      &  3.157 & \\textbf{  Cond. No.          } & 4.29e+08  \\\\\n",
       "\\bottomrule\n",
       "\\end{tabular}\n",
       "%\\caption{OLS Regression Results}\n",
       "\\end{center}\n",
       "\n",
       "Notes: \\newline\n",
       " [1] Standard Errors assume that the covariance matrix of the errors is correctly specified. \\newline\n",
       " [2] The condition number is large, 4.29e+08. This might indicate that there are \\newline\n",
       " strong multicollinearity or other numerical problems."
      ],
      "text/plain": [
       "<class 'statsmodels.iolib.summary.Summary'>\n",
       "\"\"\"\n",
       "                            OLS Regression Results                            \n",
       "==============================================================================\n",
       "Dep. Variable:                  price   R-squared:                       0.594\n",
       "Model:                            OLS   Adj. R-squared:                  0.593\n",
       "Method:                 Least Squares   F-statistic:                     1838.\n",
       "Date:                Wed, 10 Apr 2024   Prob (F-statistic):               0.00\n",
       "Time:                        13:25:11   Log-Likelihood:                -7020.1\n",
       "No. Observations:               21420   AIC:                         1.408e+04\n",
       "Df Residuals:                   21402   BIC:                         1.422e+04\n",
       "Df Model:                          17                                         \n",
       "Covariance Type:            nonrobust                                         \n",
       "=====================================================================================\n",
       "                        coef    std err          t      P>|t|      [0.025      0.975]\n",
       "-------------------------------------------------------------------------------------\n",
       "const               944.3980     54.269     17.402      0.000     838.026    1050.770\n",
       "bedrooms             -0.0599      0.003    -19.378      0.000      -0.066      -0.054\n",
       "bathrooms             0.0793      0.004     18.914      0.000       0.071       0.088\n",
       "sqft_living           0.0820      0.009      8.693      0.000       0.064       0.101\n",
       "sqft_lot             -0.0281      0.006     -4.977      0.000      -0.039      -0.017\n",
       "floors                0.0613      0.003     17.759      0.000       0.055       0.068\n",
       "waterfront            0.0422      0.002     17.733      0.000       0.038       0.047\n",
       "sqft_above            0.1566      0.009     17.437      0.000       0.139       0.174\n",
       "sqft_basement         0.0951      0.005     18.711      0.000       0.085       0.105\n",
       "yr_built             -0.1375      0.003    -43.846      0.000      -0.144      -0.131\n",
       "sqft_living15         0.1479      0.004     38.685      0.000       0.140       0.155\n",
       "sqft_lot15           -0.0305      0.006     -5.353      0.000      -0.042      -0.019\n",
       "condition_encoded     0.0226      0.003      8.809      0.000       0.018       0.028\n",
       "grade_encoded        -0.0268      0.003    -10.293      0.000      -0.032      -0.022\n",
       "view_encoded         -0.0371      0.002    -14.976      0.000      -0.042      -0.032\n",
       "season_Fall          -0.0215      0.003     -8.001      0.000      -0.027      -0.016\n",
       "season_Summer        -0.0171      0.003     -6.277      0.000      -0.022      -0.012\n",
       "season_Winter        -0.0210      0.003     -8.003      0.000      -0.026      -0.016\n",
       "==============================================================================\n",
       "Omnibus:                       28.276   Durbin-Watson:                   1.983\n",
       "Prob(Omnibus):                  0.000   Jarque-Bera (JB):               31.066\n",
       "Skew:                          -0.051   Prob(JB):                     1.79e-07\n",
       "Kurtosis:                       3.157   Cond. No.                     4.29e+08\n",
       "==============================================================================\n",
       "\n",
       "Notes:\n",
       "[1] Standard Errors assume that the covariance matrix of the errors is correctly specified.\n",
       "[2] The condition number is large, 4.29e+08. This might indicate that there are\n",
       "strong multicollinearity or other numerical problems.\n",
       "\"\"\""
      ]
     },
     "execution_count": 47,
     "metadata": {},
     "output_type": "execute_result"
    }
   ],
   "source": [
    "#modeling\n",
    "X_pred = sm.add_constant(X_scaled)\n",
    "#building the model\n",
    "model2 =  sm.OLS(y , X_pred).fit()\n",
    "model2.summary()"
   ]
  },
  {
   "cell_type": "markdown",
   "id": "251c1c37-286a-4a30-a84c-fdbb737694a0",
   "metadata": {},
   "source": [
    "* We have better and more readable coefficients.\n",
    "* Let's check for multicollinearity."
   ]
  },
  {
   "cell_type": "markdown",
   "id": "e1ac623f-69d0-4c77-a6b8-9d3cc0fd9b2f",
   "metadata": {},
   "source": [
    "#### Multicollinearity"
   ]
  },
  {
   "cell_type": "code",
   "execution_count": 48,
   "id": "bd30a983-5ed1-41f5-86d8-26b00a5fcae3",
   "metadata": {},
   "outputs": [
    {
     "data": {
      "text/html": [
       "<div>\n",
       "<style scoped>\n",
       "    .dataframe tbody tr th:only-of-type {\n",
       "        vertical-align: middle;\n",
       "    }\n",
       "\n",
       "    .dataframe tbody tr th {\n",
       "        vertical-align: top;\n",
       "    }\n",
       "\n",
       "    .dataframe thead th {\n",
       "        text-align: right;\n",
       "    }\n",
       "</style>\n",
       "<table border=\"1\" class=\"dataframe\">\n",
       "  <thead>\n",
       "    <tr style=\"text-align: right;\">\n",
       "      <th></th>\n",
       "      <th>Features</th>\n",
       "      <th>VIF</th>\n",
       "    </tr>\n",
       "  </thead>\n",
       "  <tbody>\n",
       "    <tr>\n",
       "      <th>0</th>\n",
       "      <td>bedrooms</td>\n",
       "      <td>30.027609</td>\n",
       "    </tr>\n",
       "    <tr>\n",
       "      <th>1</th>\n",
       "      <td>bathrooms</td>\n",
       "      <td>26.556517</td>\n",
       "    </tr>\n",
       "    <tr>\n",
       "      <th>2</th>\n",
       "      <td>sqft_living</td>\n",
       "      <td>3884.198855</td>\n",
       "    </tr>\n",
       "    <tr>\n",
       "      <th>3</th>\n",
       "      <td>sqft_lot</td>\n",
       "      <td>24.035969</td>\n",
       "    </tr>\n",
       "    <tr>\n",
       "      <th>4</th>\n",
       "      <td>floors</td>\n",
       "      <td>19.480771</td>\n",
       "    </tr>\n",
       "    <tr>\n",
       "      <th>5</th>\n",
       "      <td>waterfront</td>\n",
       "      <td>1.078387</td>\n",
       "    </tr>\n",
       "    <tr>\n",
       "      <th>6</th>\n",
       "      <td>sqft_above</td>\n",
       "      <td>77.452221</td>\n",
       "    </tr>\n",
       "    <tr>\n",
       "      <th>7</th>\n",
       "      <td>sqft_basement</td>\n",
       "      <td>6.223543</td>\n",
       "    </tr>\n",
       "    <tr>\n",
       "      <th>8</th>\n",
       "      <td>yr_built</td>\n",
       "      <td>2898.443416</td>\n",
       "    </tr>\n",
       "    <tr>\n",
       "      <th>9</th>\n",
       "      <td>sqft_living15</td>\n",
       "      <td>28.209509</td>\n",
       "    </tr>\n",
       "    <tr>\n",
       "      <th>10</th>\n",
       "      <td>sqft_lot15</td>\n",
       "      <td>28.270590</td>\n",
       "    </tr>\n",
       "    <tr>\n",
       "      <th>11</th>\n",
       "      <td>condition_encoded</td>\n",
       "      <td>1.700958</td>\n",
       "    </tr>\n",
       "    <tr>\n",
       "      <th>12</th>\n",
       "      <td>grade_encoded</td>\n",
       "      <td>15.274797</td>\n",
       "    </tr>\n",
       "    <tr>\n",
       "      <th>13</th>\n",
       "      <td>view_encoded</td>\n",
       "      <td>20.001574</td>\n",
       "    </tr>\n",
       "  </tbody>\n",
       "</table>\n",
       "</div>"
      ],
      "text/plain": [
       "             Features          VIF\n",
       "0            bedrooms    30.027609\n",
       "1           bathrooms    26.556517\n",
       "2         sqft_living  3884.198855\n",
       "3            sqft_lot    24.035969\n",
       "4              floors    19.480771\n",
       "5          waterfront     1.078387\n",
       "6          sqft_above    77.452221\n",
       "7       sqft_basement     6.223543\n",
       "8            yr_built  2898.443416\n",
       "9       sqft_living15    28.209509\n",
       "10         sqft_lot15    28.270590\n",
       "11  condition_encoded     1.700958\n",
       "12      grade_encoded    15.274797\n",
       "13       view_encoded    20.001574"
      ]
     },
     "execution_count": 48,
     "metadata": {},
     "output_type": "execute_result"
    }
   ],
   "source": [
    "\n",
    "import pandas as pd\n",
    "import numpy as np\n",
    "from statsmodels.stats.outliers_influence import variance_inflation_factor\n",
    "\n",
    "\n",
    "col = df3[['bedrooms', 'bathrooms', 'sqft_living', 'sqft_lot', 'floors',\n",
    "           'waterfront', 'sqft_above', 'sqft_basement', 'yr_built',\n",
    "           'sqft_living15', 'sqft_lot15', 'condition_encoded', 'grade_encoded',\n",
    "           'view_encoded']]\n",
    "\n",
    "# Convert the DataFrame column values into a NumPy array\n",
    "X = col.values\n",
    "\n",
    "# Create a dataframe that will contain the names of all the feature variables and their respective VIFs\n",
    "vif = pd.DataFrame()\n",
    "vif['Features'] = col.columns\n",
    "vif['VIF'] = [variance_inflation_factor(X, i) for i in range(X.shape[1])]\n",
    "vif\n",
    "\n"
   ]
  },
  {
   "cell_type": "markdown",
   "id": "7cc58ff6-437a-441d-bc09-e50d262869c5",
   "metadata": {},
   "source": [
    "* Variance Inflation Factor measures how much the variance of an estimated regression coefficient is increased due to multicollinearity in the model.\n",
    "  \n",
    "* A VIF of 1 indicates no multicollinearity.\n",
    "  \n",
    "* Typically, a VIF greater than 5 or 10 indicates multicollinearity issues.\n",
    "  \n",
    "* Extremely high VIF values, such as those seen above suggest severe multicollinearity.\n",
    "  \n",
    "* The VIF values for \"sqft_living,\" \"sqft_lot,\" \"sqft_above,\" \"yr_built,\" \"sqft_living15,\" and \"sqft_lot15\" are high, indicating strong multicollinearity among these variables.\n",
    "  \n",
    "* This suggests that these variables are highly correlated with other predictors in the model, which can lead to unstable coefficient estimates and inflated standard errors.\n",
    "  \n",
    "* We will address the multicollinearity by using the Lasso regularization technique given that our data set is high dimensional."
   ]
  },
  {
   "cell_type": "code",
   "execution_count": 49,
   "id": "f0c3a3cb-baa8-4366-b81d-a508a0f06481",
   "metadata": {},
   "outputs": [
    {
     "name": "stdout",
     "output_type": "stream",
     "text": [
      "Mean Squared Error: 0.1581670236737812\n"
     ]
    }
   ],
   "source": [
    "from sklearn.linear_model import Lasso\n",
    "from sklearn.model_selection import train_test_split\n",
    "from sklearn.preprocessing import StandardScaler\n",
    "from sklearn.metrics import mean_squared_error\n",
    "\n",
    "# Assuming X contains your independent variables and y contains your target variable\n",
    "\n",
    "# Split the data into training and testing sets\n",
    "X_train, X_test, y_train, y_test = train_test_split(X, y, test_size=0.2, random_state=42)\n",
    "\n",
    "# Standardize the features\n",
    "scaler = StandardScaler()\n",
    "X_train_scaled = scaler.fit_transform(X_train)\n",
    "X_test_scaled = scaler.transform(X_test)\n",
    "\n",
    "# Create the Lasso regression model\n",
    "lasso_model = Lasso(alpha=0.1)  \n",
    "\n",
    "# Fit the model to the training data\n",
    "lasso_model.fit(X_train_scaled, y_train)\n",
    "\n",
    "# Predict on the testing data\n",
    "y_pred = lasso_model.predict(X_test_scaled)\n",
    "\n",
    "# Evaluate the model\n",
    "mse = mean_squared_error(y_test, y_pred)\n",
    "print(\"Mean Squared Error:\", mse)\n"
   ]
  },
  {
   "cell_type": "markdown",
   "id": "877395cb-d0a1-40b6-a8b2-cc0511701a3d",
   "metadata": {},
   "source": [
    "* The Mean Squared Error (MSE) is a measure of the average squared difference between the actual values (ground truth) and the predicted values generated by a model. In this case, the MSE value of approximately 0.158 indicates that, on average, the squared difference between the actual house prices and the predicted house prices by the Lasso regression model is around 0.158.\n",
    "\n",
    "* A lower MSE value suggests that the model's predictions are closer to the actual values, indicating better performance. "
   ]
  },
  {
   "cell_type": "markdown",
   "id": "4778b9c3-9a0a-4368-88a9-e196b4a30740",
   "metadata": {},
   "source": [
    "#### Feature selection"
   ]
  },
  {
   "cell_type": "markdown",
   "id": "c460ff8a-2320-41ed-aea1-c2cce789fdef",
   "metadata": {},
   "source": [
    "* We will conduct feature selection on our columns to refine our dataset for building the final multiple linear regression model, thereby laying the groundwork before exploring alternative modeling approaches."
   ]
  },
  {
   "cell_type": "code",
   "execution_count": 50,
   "id": "29916aca-1bac-496f-8636-f5fe4dc53cf8",
   "metadata": {},
   "outputs": [],
   "source": [
    "from sklearn.feature_selection import RFE\n",
    "\n",
    "lr_rfe = LinearRegression()\n",
    "select = RFE(lr_rfe, n_features_to_select=7)"
   ]
  },
  {
   "cell_type": "code",
   "execution_count": 51,
   "id": "92c471e5-4dc1-4bd6-b824-1a12ec41b2f6",
   "metadata": {},
   "outputs": [],
   "source": [
    "ss = StandardScaler()\n",
    "ss.fit(df3.drop('price', axis=1))\n",
    "\n",
    "df3_scaled = ss.transform(df3.drop('price', axis=1))"
   ]
  },
  {
   "cell_type": "code",
   "execution_count": 52,
   "id": "f7557c35-e31d-4466-8a35-f11b76952588",
   "metadata": {},
   "outputs": [
    {
     "data": {
      "text/html": [
       "<style>#sk-container-id-1 {color: black;background-color: white;}#sk-container-id-1 pre{padding: 0;}#sk-container-id-1 div.sk-toggleable {background-color: white;}#sk-container-id-1 label.sk-toggleable__label {cursor: pointer;display: block;width: 100%;margin-bottom: 0;padding: 0.3em;box-sizing: border-box;text-align: center;}#sk-container-id-1 label.sk-toggleable__label-arrow:before {content: \"▸\";float: left;margin-right: 0.25em;color: #696969;}#sk-container-id-1 label.sk-toggleable__label-arrow:hover:before {color: black;}#sk-container-id-1 div.sk-estimator:hover label.sk-toggleable__label-arrow:before {color: black;}#sk-container-id-1 div.sk-toggleable__content {max-height: 0;max-width: 0;overflow: hidden;text-align: left;background-color: #f0f8ff;}#sk-container-id-1 div.sk-toggleable__content pre {margin: 0.2em;color: black;border-radius: 0.25em;background-color: #f0f8ff;}#sk-container-id-1 input.sk-toggleable__control:checked~div.sk-toggleable__content {max-height: 200px;max-width: 100%;overflow: auto;}#sk-container-id-1 input.sk-toggleable__control:checked~label.sk-toggleable__label-arrow:before {content: \"▾\";}#sk-container-id-1 div.sk-estimator input.sk-toggleable__control:checked~label.sk-toggleable__label {background-color: #d4ebff;}#sk-container-id-1 div.sk-label input.sk-toggleable__control:checked~label.sk-toggleable__label {background-color: #d4ebff;}#sk-container-id-1 input.sk-hidden--visually {border: 0;clip: rect(1px 1px 1px 1px);clip: rect(1px, 1px, 1px, 1px);height: 1px;margin: -1px;overflow: hidden;padding: 0;position: absolute;width: 1px;}#sk-container-id-1 div.sk-estimator {font-family: monospace;background-color: #f0f8ff;border: 1px dotted black;border-radius: 0.25em;box-sizing: border-box;margin-bottom: 0.5em;}#sk-container-id-1 div.sk-estimator:hover {background-color: #d4ebff;}#sk-container-id-1 div.sk-parallel-item::after {content: \"\";width: 100%;border-bottom: 1px solid gray;flex-grow: 1;}#sk-container-id-1 div.sk-label:hover label.sk-toggleable__label {background-color: #d4ebff;}#sk-container-id-1 div.sk-serial::before {content: \"\";position: absolute;border-left: 1px solid gray;box-sizing: border-box;top: 0;bottom: 0;left: 50%;z-index: 0;}#sk-container-id-1 div.sk-serial {display: flex;flex-direction: column;align-items: center;background-color: white;padding-right: 0.2em;padding-left: 0.2em;position: relative;}#sk-container-id-1 div.sk-item {position: relative;z-index: 1;}#sk-container-id-1 div.sk-parallel {display: flex;align-items: stretch;justify-content: center;background-color: white;position: relative;}#sk-container-id-1 div.sk-item::before, #sk-container-id-1 div.sk-parallel-item::before {content: \"\";position: absolute;border-left: 1px solid gray;box-sizing: border-box;top: 0;bottom: 0;left: 50%;z-index: -1;}#sk-container-id-1 div.sk-parallel-item {display: flex;flex-direction: column;z-index: 1;position: relative;background-color: white;}#sk-container-id-1 div.sk-parallel-item:first-child::after {align-self: flex-end;width: 50%;}#sk-container-id-1 div.sk-parallel-item:last-child::after {align-self: flex-start;width: 50%;}#sk-container-id-1 div.sk-parallel-item:only-child::after {width: 0;}#sk-container-id-1 div.sk-dashed-wrapped {border: 1px dashed gray;margin: 0 0.4em 0.5em 0.4em;box-sizing: border-box;padding-bottom: 0.4em;background-color: white;}#sk-container-id-1 div.sk-label label {font-family: monospace;font-weight: bold;display: inline-block;line-height: 1.2em;}#sk-container-id-1 div.sk-label-container {text-align: center;}#sk-container-id-1 div.sk-container {/* jupyter's `normalize.less` sets `[hidden] { display: none; }` but bootstrap.min.css set `[hidden] { display: none !important; }` so we also need the `!important` here to be able to override the default hidden behavior on the sphinx rendered scikit-learn.org. See: https://github.com/scikit-learn/scikit-learn/issues/21755 */display: inline-block !important;position: relative;}#sk-container-id-1 div.sk-text-repr-fallback {display: none;}</style><div id=\"sk-container-id-1\" class=\"sk-top-container\"><div class=\"sk-text-repr-fallback\"><pre>RFE(estimator=LinearRegression(), n_features_to_select=7)</pre><b>In a Jupyter environment, please rerun this cell to show the HTML representation or trust the notebook. <br />On GitHub, the HTML representation is unable to render, please try loading this page with nbviewer.org.</b></div><div class=\"sk-container\" hidden><div class=\"sk-item sk-dashed-wrapped\"><div class=\"sk-label-container\"><div class=\"sk-label sk-toggleable\"><input class=\"sk-toggleable__control sk-hidden--visually\" id=\"sk-estimator-id-1\" type=\"checkbox\" ><label for=\"sk-estimator-id-1\" class=\"sk-toggleable__label sk-toggleable__label-arrow\">RFE</label><div class=\"sk-toggleable__content\"><pre>RFE(estimator=LinearRegression(), n_features_to_select=7)</pre></div></div></div><div class=\"sk-parallel\"><div class=\"sk-parallel-item\"><div class=\"sk-item\"><div class=\"sk-label-container\"><div class=\"sk-label sk-toggleable\"><input class=\"sk-toggleable__control sk-hidden--visually\" id=\"sk-estimator-id-2\" type=\"checkbox\" ><label for=\"sk-estimator-id-2\" class=\"sk-toggleable__label sk-toggleable__label-arrow\">estimator: LinearRegression</label><div class=\"sk-toggleable__content\"><pre>LinearRegression()</pre></div></div></div><div class=\"sk-serial\"><div class=\"sk-item\"><div class=\"sk-estimator sk-toggleable\"><input class=\"sk-toggleable__control sk-hidden--visually\" id=\"sk-estimator-id-3\" type=\"checkbox\" ><label for=\"sk-estimator-id-3\" class=\"sk-toggleable__label sk-toggleable__label-arrow\">LinearRegression</label><div class=\"sk-toggleable__content\"><pre>LinearRegression()</pre></div></div></div></div></div></div></div></div></div></div>"
      ],
      "text/plain": [
       "RFE(estimator=LinearRegression(), n_features_to_select=7)"
      ]
     },
     "execution_count": 52,
     "metadata": {},
     "output_type": "execute_result"
    }
   ],
   "source": [
    "select.fit(X=df3_scaled, y=df3['price'])"
   ]
  },
  {
   "cell_type": "code",
   "execution_count": 53,
   "id": "a131b1c4-c9b9-4976-847b-62a6f73da0b6",
   "metadata": {},
   "outputs": [
    {
     "data": {
      "text/plain": [
       "array([ True,  True, False, False,  True, False,  True,  True,  True,\n",
       "        True, False, False, False, False, False, False, False])"
      ]
     },
     "execution_count": 53,
     "metadata": {},
     "output_type": "execute_result"
    }
   ],
   "source": [
    "select.support_"
   ]
  },
  {
   "cell_type": "markdown",
   "id": "6715a341-7995-48da-8154-78e2ae1f95ac",
   "metadata": {},
   "source": [
    "* We will pick the six (excluding price column) selected columns for our next model."
   ]
  },
  {
   "cell_type": "code",
   "execution_count": 54,
   "id": "a5136574-0827-4354-afdc-6a8bd0e0d956",
   "metadata": {},
   "outputs": [
    {
     "data": {
      "text/html": [
       "<div>\n",
       "<style scoped>\n",
       "    .dataframe tbody tr th:only-of-type {\n",
       "        vertical-align: middle;\n",
       "    }\n",
       "\n",
       "    .dataframe tbody tr th {\n",
       "        vertical-align: top;\n",
       "    }\n",
       "\n",
       "    .dataframe thead th {\n",
       "        text-align: right;\n",
       "    }\n",
       "</style>\n",
       "<table border=\"1\" class=\"dataframe\">\n",
       "  <thead>\n",
       "    <tr style=\"text-align: right;\">\n",
       "      <th></th>\n",
       "      <th>price</th>\n",
       "      <th>bedrooms</th>\n",
       "      <th>bathrooms</th>\n",
       "      <th>sqft_living</th>\n",
       "      <th>sqft_lot</th>\n",
       "      <th>floors</th>\n",
       "      <th>waterfront</th>\n",
       "      <th>sqft_above</th>\n",
       "      <th>sqft_basement</th>\n",
       "      <th>yr_built</th>\n",
       "      <th>sqft_living15</th>\n",
       "      <th>sqft_lot15</th>\n",
       "      <th>condition_encoded</th>\n",
       "      <th>grade_encoded</th>\n",
       "      <th>view_encoded</th>\n",
       "      <th>season_Fall</th>\n",
       "      <th>season_Summer</th>\n",
       "      <th>season_Winter</th>\n",
       "    </tr>\n",
       "  </thead>\n",
       "  <tbody>\n",
       "    <tr>\n",
       "      <th>0</th>\n",
       "      <td>12.309982</td>\n",
       "      <td>3.0</td>\n",
       "      <td>1.00</td>\n",
       "      <td>7.073270</td>\n",
       "      <td>5650.0</td>\n",
       "      <td>1.0</td>\n",
       "      <td>0</td>\n",
       "      <td>1180</td>\n",
       "      <td>0.0</td>\n",
       "      <td>1955</td>\n",
       "      <td>1340</td>\n",
       "      <td>5650.0</td>\n",
       "      <td>0</td>\n",
       "      <td>8</td>\n",
       "      <td>4</td>\n",
       "      <td>1</td>\n",
       "      <td>0</td>\n",
       "      <td>0</td>\n",
       "    </tr>\n",
       "    <tr>\n",
       "      <th>1</th>\n",
       "      <td>13.195614</td>\n",
       "      <td>3.0</td>\n",
       "      <td>2.25</td>\n",
       "      <td>7.851661</td>\n",
       "      <td>7242.0</td>\n",
       "      <td>2.0</td>\n",
       "      <td>0</td>\n",
       "      <td>2170</td>\n",
       "      <td>400.0</td>\n",
       "      <td>1951</td>\n",
       "      <td>1690</td>\n",
       "      <td>7639.0</td>\n",
       "      <td>0</td>\n",
       "      <td>8</td>\n",
       "      <td>4</td>\n",
       "      <td>0</td>\n",
       "      <td>0</td>\n",
       "      <td>1</td>\n",
       "    </tr>\n",
       "    <tr>\n",
       "      <th>2</th>\n",
       "      <td>12.100712</td>\n",
       "      <td>2.0</td>\n",
       "      <td>1.00</td>\n",
       "      <td>6.646391</td>\n",
       "      <td>10000.0</td>\n",
       "      <td>1.0</td>\n",
       "      <td>0</td>\n",
       "      <td>770</td>\n",
       "      <td>0.0</td>\n",
       "      <td>1933</td>\n",
       "      <td>2720</td>\n",
       "      <td>8062.0</td>\n",
       "      <td>0</td>\n",
       "      <td>7</td>\n",
       "      <td>4</td>\n",
       "      <td>0</td>\n",
       "      <td>0</td>\n",
       "      <td>1</td>\n",
       "    </tr>\n",
       "    <tr>\n",
       "      <th>3</th>\n",
       "      <td>13.311329</td>\n",
       "      <td>4.0</td>\n",
       "      <td>3.00</td>\n",
       "      <td>7.580700</td>\n",
       "      <td>5000.0</td>\n",
       "      <td>1.0</td>\n",
       "      <td>0</td>\n",
       "      <td>1050</td>\n",
       "      <td>910.0</td>\n",
       "      <td>1965</td>\n",
       "      <td>1360</td>\n",
       "      <td>5000.0</td>\n",
       "      <td>4</td>\n",
       "      <td>8</td>\n",
       "      <td>4</td>\n",
       "      <td>0</td>\n",
       "      <td>0</td>\n",
       "      <td>1</td>\n",
       "    </tr>\n",
       "    <tr>\n",
       "      <th>4</th>\n",
       "      <td>13.142166</td>\n",
       "      <td>3.0</td>\n",
       "      <td>2.00</td>\n",
       "      <td>7.426549</td>\n",
       "      <td>8080.0</td>\n",
       "      <td>1.0</td>\n",
       "      <td>0</td>\n",
       "      <td>1680</td>\n",
       "      <td>0.0</td>\n",
       "      <td>1987</td>\n",
       "      <td>1800</td>\n",
       "      <td>7503.0</td>\n",
       "      <td>0</td>\n",
       "      <td>9</td>\n",
       "      <td>4</td>\n",
       "      <td>0</td>\n",
       "      <td>0</td>\n",
       "      <td>1</td>\n",
       "    </tr>\n",
       "  </tbody>\n",
       "</table>\n",
       "</div>"
      ],
      "text/plain": [
       "       price  bedrooms  bathrooms  sqft_living  sqft_lot  floors  waterfront  \\\n",
       "0  12.309982       3.0       1.00     7.073270    5650.0     1.0           0   \n",
       "1  13.195614       3.0       2.25     7.851661    7242.0     2.0           0   \n",
       "2  12.100712       2.0       1.00     6.646391   10000.0     1.0           0   \n",
       "3  13.311329       4.0       3.00     7.580700    5000.0     1.0           0   \n",
       "4  13.142166       3.0       2.00     7.426549    8080.0     1.0           0   \n",
       "\n",
       "   sqft_above  sqft_basement  yr_built  sqft_living15  sqft_lot15  \\\n",
       "0        1180            0.0      1955           1340      5650.0   \n",
       "1        2170          400.0      1951           1690      7639.0   \n",
       "2         770            0.0      1933           2720      8062.0   \n",
       "3        1050          910.0      1965           1360      5000.0   \n",
       "4        1680            0.0      1987           1800      7503.0   \n",
       "\n",
       "   condition_encoded  grade_encoded  view_encoded  season_Fall  season_Summer  \\\n",
       "0                  0              8             4            1              0   \n",
       "1                  0              8             4            0              0   \n",
       "2                  0              7             4            0              0   \n",
       "3                  4              8             4            0              0   \n",
       "4                  0              9             4            0              0   \n",
       "\n",
       "   season_Winter  \n",
       "0              0  \n",
       "1              1  \n",
       "2              1  \n",
       "3              1  \n",
       "4              1  "
      ]
     },
     "execution_count": 54,
     "metadata": {},
     "output_type": "execute_result"
    }
   ],
   "source": [
    "df3.head()"
   ]
  },
  {
   "cell_type": "code",
   "execution_count": 55,
   "id": "04eb8de5-4178-449b-82dc-e157a6849ed7",
   "metadata": {},
   "outputs": [
    {
     "name": "stdout",
     "output_type": "stream",
     "text": [
      "                            OLS Regression Results                            \n",
      "==============================================================================\n",
      "Dep. Variable:                  price   R-squared:                       0.531\n",
      "Model:                            OLS   Adj. R-squared:                  0.531\n",
      "Method:                 Least Squares   F-statistic:                     4044.\n",
      "Date:                Wed, 10 Apr 2024   Prob (F-statistic):               0.00\n",
      "Time:                        13:25:12   Log-Likelihood:                -8547.9\n",
      "No. Observations:               21420   AIC:                         1.711e+04\n",
      "Df Residuals:                   21413   BIC:                         1.717e+04\n",
      "Df Model:                           6                                         \n",
      "Covariance Type:            nonrobust                                         \n",
      "=================================================================================\n",
      "                    coef    std err          t      P>|t|      [0.025      0.975]\n",
      "---------------------------------------------------------------------------------\n",
      "const            19.0643      0.185    103.093      0.000      18.702      19.427\n",
      "bedrooms         -0.0683      0.004    -18.503      0.000      -0.075      -0.061\n",
      "sqft_lot      -1.214e-05   5.25e-07    -23.137      0.000   -1.32e-05   -1.11e-05\n",
      "waterfront        0.6570      0.030     21.684      0.000       0.598       0.716\n",
      "sqft_above        0.0006   4.48e-06    122.965      0.000       0.001       0.001\n",
      "sqft_basement     0.0005   6.64e-06     72.983      0.000       0.000       0.000\n",
      "yr_built         -0.0034   9.47e-05    -36.393      0.000      -0.004      -0.003\n",
      "==============================================================================\n",
      "Omnibus:                       17.479   Durbin-Watson:                   1.988\n",
      "Prob(Omnibus):                  0.000   Jarque-Bera (JB):               17.669\n",
      "Skew:                          -0.061   Prob(JB):                     0.000146\n",
      "Kurtosis:                       3.069   Cond. No.                     7.77e+05\n",
      "==============================================================================\n",
      "\n",
      "Notes:\n",
      "[1] Standard Errors assume that the covariance matrix of the errors is correctly specified.\n",
      "[2] The condition number is large, 7.77e+05. This might indicate that there are\n",
      "strong multicollinearity or other numerical problems.\n"
     ]
    }
   ],
   "source": [
    "# Define your independent variables (features)\n",
    "X = df3[['bedrooms', 'sqft_lot' , 'waterfront' , 'sqft_above', 'sqft_basement' , 'yr_built' ]]\n",
    "\n",
    "# Add a constant to the independent variables matrix (required for OLS)\n",
    "X = sm.add_constant(X)\n",
    "\n",
    "# Define your dependent variable (target)\n",
    "y = df3['price']\n",
    "\n",
    "# Create the OLS model\n",
    "model = sm.OLS(y, X)\n",
    "\n",
    "# Fit the model\n",
    "results = model.fit()\n",
    "\n",
    "# Print the summary of the regression results\n",
    "print(results.summary())"
   ]
  },
  {
   "cell_type": "code",
   "execution_count": 56,
   "id": "e26c93b9-22c8-4b25-a443-00bed8ecd3fe",
   "metadata": {},
   "outputs": [
    {
     "data": {
      "image/png": "[encoded data removed]",
      "text/plain": [
       "<Figure size 1500x1200 with 6 Axes>"
      ]
     },
     "metadata": {},
     "output_type": "display_data"
    }
   ],
   "source": [
    "# Residuals vs. Predictor Variables (for linearity and independence)\n",
    "# Assuming 'X' contains predictor variables used in the model\n",
    "\n",
    "X = df3[['bedrooms', 'sqft_lot' , 'waterfront' , 'sqft_above', 'sqft_basement' , 'yr_built']]\n",
    "\n",
    "import matplotlib.pyplot as plt\n",
    "import seaborn as sns\n",
    "\n",
    "\n",
    "# Get the residuals\n",
    "residuals = results.resid\n",
    "\n",
    "# Create a grid of subplots\n",
    "fig, axes = plt.subplots(nrows=3, ncols=2, figsize=(15, 12))\n",
    "fig.suptitle(\"Residuals vs. Predictor Variables\")\n",
    "\n",
    "# Flatten the 2D array of subplots into a 1D array\n",
    "axes = axes.flatten()\n",
    "\n",
    "for i, col in enumerate(X.columns):\n",
    "    ax = axes[i]\n",
    "    ax.scatter(X[col], residuals)\n",
    "    ax.axhline(y=0, color='r', linestyle='-')\n",
    "    ax.set_xlabel(col)\n",
    "    ax.set_ylabel('Residuals')\n",
    "    ax.set_title(f'Residuals vs. {col}')\n",
    "\n",
    "# Adjust spacing and display the plot\n",
    "plt.tight_layout()\n",
    "plt.show()\n"
   ]
  },
  {
   "cell_type": "markdown",
   "id": "20850309-d3a3-43b6-9346-1dc60b765f79",
   "metadata": {},
   "source": [
    "* We can observe the violation of assumptions of linearity and homoscedasticity."
   ]
  },
  {
   "cell_type": "code",
   "execution_count": 57,
   "id": "73ab121c-e13d-4732-bf93-f166da470a1a",
   "metadata": {},
   "outputs": [
    {
     "data": {
      "image/png": "[encoded data removed]",
      "text/plain": [
       "<Figure size 640x480 with 1 Axes>"
      ]
     },
     "metadata": {},
     "output_type": "display_data"
    }
   ],
   "source": [
    "# Creating a Residual Plot\n",
    "\n",
    "X= df3[['bedrooms', 'sqft_lot' , 'waterfront' , 'sqft_above', 'sqft_basement' , 'yr_built']]\n",
    "y= df3['price']\n",
    "\n",
    "X_train, X_test, admit_train, admit_test = train_test_split(X, y, test_size=0.2, random_state=0)\n",
    "regressor = LinearRegression()\n",
    "regressor.fit(X_train, admit_train)\n",
    "\n",
    "# This is our prediction our model\n",
    "y_predict = regressor.predict(X_test)\n",
    "#\n",
    "residuals = np.subtract(y_predict, admit_test)\n",
    "\n",
    "# Plot\n",
    "plt.scatter(y_predict, residuals, color='black')\n",
    "plt.ylabel('residual')\n",
    "plt.xlabel('fitted values')\n",
    "plt.axhline(y= residuals.mean(), color='red', linewidth=1)\n",
    "plt.show()"
   ]
  },
  {
   "cell_type": "code",
   "execution_count": 58,
   "id": "49b903a2-4946-42a2-9098-156fcc1709b7",
   "metadata": {},
   "outputs": [
    {
     "name": "stdout",
     "output_type": "stream",
     "text": [
      "Root Mean Squared Error (RMSE): 0.34338386897273376\n"
     ]
    }
   ],
   "source": [
    "# Creating a Polynomial Regression with 3 degrees\n",
    "poly = PolynomialFeatures(degree=3, include_bias=False)\n",
    "poly_features = poly.fit_transform(X)\n",
    "\n",
    "# Split the dataset into train and test sets\n",
    "X_train, X_test, y_train, y_test = train_test_split(poly_features, y, test_size=0.3, random_state=10)\n",
    "\n",
    "# Initialize the StandardScaler\n",
    "scaler = StandardScaler()\n",
    "\n",
    "# Fit the scaler to the training data and transform it\n",
    "X_train_scaled = scaler.fit_transform(X_train)\n",
    "\n",
    "# Transform the test data using the same scaler\n",
    "X_test_scaled = scaler.transform(X_test)\n",
    "\n",
    "# Fit the polynomial regression model\n",
    "poly_reg_model = LinearRegression()\n",
    "poly_reg_model.fit(X_train_scaled, y_train)\n",
    "\n",
    "# Predict the target variable on the scaled test data\n",
    "poly_reg_y_predicted = poly_reg_model.predict(X_test_scaled)\n",
    "\n",
    "# Calculate RMSE\n",
    "poly_reg_rmse = np.sqrt(mean_squared_error(y_test, poly_reg_y_predicted))\n",
    "print(\"Root Mean Squared Error (RMSE):\", poly_reg_rmse)\n"
   ]
  },
  {
   "cell_type": "code",
   "execution_count": 59,
   "id": "0db750be-50e4-4e06-b1fd-a97212b57e9f",
   "metadata": {},
   "outputs": [
    {
     "name": "stdout",
     "output_type": "stream",
     "text": [
      "Model Performance with Polynomial Features:\n",
      "Mean Squared Error (MSE): 0.1179124814706836\n",
      "Root Mean Squared Error (RMSE): 0.34338386897273376\n",
      "R-squared (R2): 0.5785072360036281\n"
     ]
    }
   ],
   "source": [
    "\n",
    "# Polynomial Regression with 3 degrees\n",
    "poly = PolynomialFeatures(degree=3, include_bias=False)\n",
    "poly_features = poly.fit_transform(X)\n",
    "\n",
    "# Split the dataset into train and test sets\n",
    "X_train, X_test, y_train, y_test = train_test_split(poly_features, y, test_size=0.3, random_state=10)\n",
    "\n",
    "# Initialize the StandardScaler\n",
    "scaler = StandardScaler()\n",
    "\n",
    "# Fit the scaler to the training data and transform it\n",
    "X_train_scaled = scaler.fit_transform(X_train)\n",
    "\n",
    "# Transform the test data using the same scaler\n",
    "X_test_scaled = scaler.transform(X_test)\n",
    "\n",
    "# Fit the polynomial regression model\n",
    "poly_reg_model = LinearRegression()\n",
    "poly_reg_model.fit(X_train_scaled, y_train)\n",
    "\n",
    "# Predict the target variable on the scaled test data\n",
    "poly_reg_y_predicted = poly_reg_model.predict(X_test_scaled)\n",
    "\n",
    "# Calculate RMSE\n",
    "poly_reg_rmse = np.sqrt(mean_squared_error(y_test, poly_reg_y_predicted))\n",
    "\n",
    "# Evaluate the model performance with polynomial features\n",
    "mse_poly = mean_squared_error(y_test, poly_reg_y_predicted)\n",
    "rmse_poly = sqrt(mse_poly)\n",
    "r2_poly = r2_score(y_test, poly_reg_y_predicted)\n",
    "\n",
    "# Print model performance metrics with polynomial features\n",
    "print(\"Model Performance with Polynomial Features:\")\n",
    "print(\"Mean Squared Error (MSE):\", mse_poly)\n",
    "print(\"Root Mean Squared Error (RMSE):\", rmse_poly)\n",
    "print(\"R-squared (R2):\", r2_poly)"
   ]
  },
  {
   "cell_type": "code",
   "execution_count": 60,
   "id": "eb014d4a-b8a9-42f7-9521-b6200a5d683c",
   "metadata": {},
   "outputs": [
    {
     "data": {
      "image/png": "[encoded data removed]",
      "text/plain": [
       "<Figure size 640x480 with 1 Axes>"
      ]
     },
     "metadata": {},
     "output_type": "display_data"
    }
   ],
   "source": [
    "import numpy as np\n",
    "import matplotlib.pyplot as plt\n",
    "from sklearn.preprocessing import PolynomialFeatures\n",
    "from sklearn.linear_model import LinearRegression\n",
    "\n",
    "# Generate some random data\n",
    "np.random.seed(0)\n",
    "X = 2 * np.random.rand(100, 1)\n",
    "y = 3 * X**2 + 5 * X + np.random.randn(100, 1)\n",
    "\n",
    "# Fit polynomial regression model\n",
    "poly_features = PolynomialFeatures(degree=3)\n",
    "X_poly = poly_features.fit_transform(X)\n",
    "poly_reg = LinearRegression()\n",
    "poly_reg.fit(X_poly, y)\n",
    "\n",
    "# Visualize the data and the polynomial regression curve\n",
    "plt.scatter(X, y, color='blue', label='Data')\n",
    "plt.plot(X, poly_reg.predict(X_poly), color='red', label='Polynomial Regression')\n",
    "plt.xlabel('X')\n",
    "plt.ylabel('y')\n",
    "plt.title('Polynomial Regression Visualization')\n",
    "plt.legend()\n",
    "plt.show()\n",
    "\n",
    "\n"
   ]
  },
  {
   "cell_type": "markdown",
   "id": "04e67c5c-2e1d-4769-a32d-285fac579b2d",
   "metadata": {},
   "source": [
    "* An upward-sloping curve suggests a positive correlation, where an increase in the predictor variable(s) is associated with an increase in the target variable."
   ]
  },
  {
   "cell_type": "code",
   "execution_count": 61,
   "id": "52bdf663-ecad-4efa-83cf-a1bd54d94df8",
   "metadata": {},
   "outputs": [
    {
     "name": "stdout",
     "output_type": "stream",
     "text": [
      "Cross-validation R^2 scores: [0.49837495 0.51179891 0.52607659 0.49855351 0.5168576 ]\n",
      "Mean R^2 score: 0.5103323136219119\n",
      "Cross-validation MSE scores: [0.14258149 0.13418398 0.12999174 0.13682081 0.13425705]\n",
      "Mean MSE: 0.13556701332855092\n",
      "Test R^2 score: 0.5097620447238456\n",
      "Test MSE: 0.13677834522286214\n"
     ]
    }
   ],
   "source": [
    "from sklearn.model_selection import cross_val_score\n",
    "\n",
    "# X' contains the predictors and 'y' contains the target variable from your dataset\n",
    "X = df3[['sqft_living', 'sqft_living15' , 'sqft_above', 'bathrooms', 'bedrooms', 'view_encoded' , 'grade_encoded']]\n",
    "y = df3['price']\n",
    "\n",
    "# Split the data into training and test sets (75% training, 25% test)\n",
    "X_train, X_test, y_train, y_test = train_test_split(X, y, test_size=0.25, random_state=42)\n",
    "\n",
    "# Create a linear regression model\n",
    "multiple_model_3 = LinearRegression()\n",
    "\n",
    "# Fit the model on the training data\n",
    "multiple_model_3.fit(X_train, y_train)\n",
    "\n",
    "# Perform cross-validation and calculate both R^2 and mean squared error\n",
    "cv_scores_r2 = cross_val_score(multiple_model_3, X_train, y_train, cv=5, scoring='r2')\n",
    "cv_scores_mse = -cross_val_score(multiple_model_3, X_train, y_train, cv=5, scoring='neg_mean_squared_error')\n",
    "\n",
    "# Print the cross-validation scores\n",
    "print(\"Cross-validation R^2 scores:\", cv_scores_r2)\n",
    "print(\"Mean R^2 score:\", np.mean(cv_scores_r2))\n",
    "print(\"Cross-validation MSE scores:\", cv_scores_mse)\n",
    "print(\"Mean MSE:\", np.mean(cv_scores_mse))\n",
    "\n",
    "# Evaluate the model on the test set\n",
    "y_pred_test = multiple_model_3.predict(X_test)\n",
    "test_r2 = multiple_model_3.score(X_test, y_test)\n",
    "test_mse = mean_squared_error(y_test, y_pred_test)\n",
    "print(\"Test R^2 score:\", test_r2)\n",
    "print(\"Test MSE:\", test_mse)"
   ]
  },
  {
   "cell_type": "markdown",
   "id": "2e73d0aa-1cd7-43e0-8de6-2d5337874e39",
   "metadata": {},
   "source": [
    "# REGRESSION RESULTS"
   ]
  },
  {
   "cell_type": "markdown",
   "id": "48b3cda5-8ae1-4042-bc60-4483311de9e7",
   "metadata": {},
   "source": [
    "**For our baseline model**, we conducted simple linear regression analyses to explore the relationships between the housing price and two highly correlated variables: bathrooms and square footage of living space (sqft_living).\n",
    "\n",
    "First, we tested the hypothesis that the coefficient of 'sqft_living' is zero, suggesting no linear relationship between the size of the living space and the price. However, our analysis revealed a p-value close to zero (less than 0.05) , leading us to reject the null hypothesis. \n",
    "This implies a statistically significant linear relationship between 'sqft_living' and 'price'. \n",
    "The coefficient estimate for 'sqft_living' is 283.4564. It indicates that for each additional unit increase in square footage of living space, we expect the price to increase by $283.4564, assuming all other variables remain constant.\n",
    "\n",
    "Next, we examined the relationship between the number of bathrooms and the price. Initially, we hypothesized that the coefficient of 'bathrooms' would be zero, indicating no linear relationship. Yet, the analysis yielded a low p-value (close to 0.0), prompting us to reject the null hypothesis. \n",
    "We concluded a statistically significant linear relationship between the number of bathrooms and the price. \n",
    "The coefficient estimate for 'bathrooms' is 0.3779, indicating that for each additional bathroom, the price is expected to increase by 0.3779 units, all else being equal.\n",
    "\n",
    "\n",
    "\n",
    "**From our final multiple linear regression model**, the following key findings were observed:\n",
    "\n",
    "* Bedrooms: Each additional bedroom is associated with a decrease in the estimated price by 0.0683 units, holding all other variables constant. This suggests that, contrary to intuition, an increase in the number of bedrooms is linked with a lower housing price in our model.\n",
    "\n",
    "* Sqft_lot: The coefficient for square footage of lot area indicates that for each additional square foot of lot area, the estimated price decreases by $1.214e-05, holding all other variables constant. This suggests that larger lot sizes are associated with lower housing prices in our model.\n",
    "\n",
    "* Waterfront: Properties with a waterfront view are estimated to have a price increase of 0.6570 units compared to those without a waterfront view, holding all other variables constant. This indicates a significant positive impact of waterfront views on housing prices.\n",
    "\n",
    "* Sqft_above and Sqft_basement: Each additional square foot of living space above ground level (sqft_above) and in the basement (sqft_basement) is associated with an estimated price increase of 0.0006 and 0.0005 units, respectively, holding all other variables constant. This suggests that larger living spaces contribute positively to housing prices.\n",
    "\n",
    "* Yr_built: With each passing year of construction, the estimated price decreases by 0.0034 units, holding all other variables constant. This implies that newer properties tend to have lower prices compared to older ones.\n",
    "\n",
    "From this, we can deduce that waterfront view, and living space (both above ground and in the basement) positively influence housing prices. Additionally, newer properties tend to command lower prices compared to older ones.\n",
    "Our analysis also suggests that newer properties generally have lower prices compared to older ones. Additionally, both the number of bedrooms and the size of the lot are associated with lower prices.\n",
    "\n",
    "\n",
    "\n",
    "**Our polynomial regression model** is preferred as it achieved the highest R-squared value of 0.58, surpassing both the multiple linear regression model (0.53) and the simple regression analyses (0.41 and 0.29)\n",
    "\n",
    "\n",
    "\n",
    "**The cross-validation results** provide valuable insights into the performance of our model. \n",
    "The mean R-squared score of 0.510 and the test R-squared score of 0.510 indicate that our model explains approximately 51% of the variance in the target variable. Additionally, the mean MSE of 0.136 and the test MSE of 0.137 suggest that our model's predictions are, on average, off by approximately 0.137 units. \n",
    "These consistent scores across cross-validation folds and the test set validate the robustness and generalization capability of our model, indicating its reliability in making accurate predictions on unseen data."
   ]
  },
  {
   "cell_type": "markdown",
   "id": "621e7362-54be-40b0-9292-104eb20a0536",
   "metadata": {},
   "source": [
    "# CONCLUSION"
   ]
  },
  {
   "cell_type": "markdown",
   "id": "e948335a-7f16-42db-a290-a80d66532838",
   "metadata": {},
   "source": [
    "Based on our analysis, we have uncovered several significant insights into the factors influencing housing prices. \n",
    "Firstly, features such as waterfront views, larger living spaces (both above ground and in the basement), and certain construction attributes positively impact housing prices. \n",
    "Conversely, newer properties tend to command lower prices compared to older ones, and factors like the number of bedrooms and lot size are associated with decreased prices."
   ]
  },
  {
   "cell_type": "markdown",
   "id": "fc433e3f-b6d0-498d-a6bf-0a557e714bd1",
   "metadata": {},
   "source": [
    "**Limitations**"
   ]
  },
  {
   "cell_type": "markdown",
   "id": "80d84840-977c-42e2-ae46-3a4e6368dfa9",
   "metadata": {},
   "source": [
    "1. The dataset may lack additional property-specific characteristics that could provide further insights into housing prices.\n",
    "\n",
    "2. Multicollinearity: The existence of correlated predictors within the dataset can result in multicollinearity problems, complicating the accurate interpretation of the individual impacts of each feature.\n",
    "\n",
    "3. Overfitting: Polynomial regression models are prone to overfitting. This is where the model tightly conforms to the training data but may struggle to perform well on new, unseen data.\n",
    "Overall the model was the best fit model for this prediction"
   ]
  },
  {
   "cell_type": "markdown",
   "id": "3258d23d-2fc3-4108-8376-8b2c7f34024e",
   "metadata": {},
   "source": [
    "# RECOMMENDATIONS"
   ]
  },
  {
   "cell_type": "markdown",
   "id": "9adc1703-b6da-4c55-9929-24ddba36e70b",
   "metadata": {},
   "source": [
    "**Further Data Collection:** the dataset could be expanded to include additional property-specific characteristics that may influence housing prices, such as proximity to amenities and neighborhood demographics, and property condition. This can provide a more comprehensive understanding of the housing market dynamics.\n",
    "\n",
    "**Guard Against Overfitting:** To mitigate the risk of overfitting in polynomial regression models, using techniques such as cross-validation, regularization could be considered, or reducing the complexity of the model by selecting an appropriate degree for the polynomial features.\n",
    "\n",
    "**Continuous Model Monitoring:** Continuously monitoring the model's performance and validity over time as new data becomes available or market conditions change. Regular updates and recalibration may be necessary to ensure the model remains relevant and accurate."
   ]
  }
 ],
 "metadata": {
  "kernelspec": {
   "display_name": "Python 3 (ipykernel)",
   "language": "python",
   "name": "python3"
  },
  "language_info": {
   "codemirror_mode": {
    "name": "ipython",
    "version": 3
   },
   "file_extension": ".py",
   "mimetype": "text/x-python",
   "name": "python",
   "nbconvert_exporter": "python",
   "pygments_lexer": "ipython3",
   "version": "3.11.5"
  }
 },
 "nbformat": 4,
 "nbformat_minor": 5
}
